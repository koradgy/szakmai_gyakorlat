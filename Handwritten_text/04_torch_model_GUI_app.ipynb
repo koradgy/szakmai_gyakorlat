{
 "cells": [
  {
   "cell_type": "markdown",
   "id": "f3ee40b7",
   "metadata": {},
   "source": [
    "# Pytorch karakter felismerés\n",
    "#### Source: https://www.youtube.com/watch?v=raIYLr0tnRA&t=1245s"
   ]
  },
  {
   "cell_type": "code",
   "execution_count": null,
   "id": "73bb9057",
   "metadata": {},
   "outputs": [],
   "source": [
    "import matplotlib.pyplot as plt\n",
    "import numpy as np\n",
    "import tkinter as tk\n",
    "from tkinter import Canvas, Button, Image, messagebox\n",
    "from PIL import Image, ImageDraw, ImageTk\n",
    "import torch\n",
    "import torchvision\n",
    "import torch.nn as nn\n",
    "import torch.nn.functional as F\n",
    "from torch.utils.data import DataLoader, TensorDataset\n",
    "import copy\n",
    "from sklearn.model_selection import train_test_split"
   ]
  },
  {
   "cell_type": "code",
   "execution_count": null,
   "id": "516b9a7a",
   "metadata": {},
   "outputs": [],
   "source": [
    "#GPU használata ha lehetséges\n",
    "device = torch.device('cuda:0' if torch.cuda.is_available() else 'cpu')"
   ]
  },
  {
   "cell_type": "code",
   "execution_count": null,
   "id": "87fbbc67",
   "metadata": {
    "scrolled": true
   },
   "outputs": [],
   "source": [
    "#Dataset letőltése\n",
    "cdata = torchvision.datasets.EMNIST(root='eminst', \n",
    "                                    split='letters', download=True)"
   ]
  },
  {
   "cell_type": "code",
   "execution_count": null,
   "id": "903bf3f7",
   "metadata": {},
   "outputs": [],
   "source": [
    "print(cdata.classes)\n",
    "print(str(len(cdata.classes))+ ' classes')\n",
    "\n",
    "print('\\nData size:')\n",
    "print(cdata.data.shape)\n",
    "\n",
    "images= cdata.data.view([124800,1,28,28]).float()\n",
    "print('\\nTensor data:')\n",
    "print(images.shape)"
   ]
  },
  {
   "cell_type": "code",
   "execution_count": null,
   "id": "5df736ca",
   "metadata": {},
   "outputs": [],
   "source": [
    "print( torch.sum(cdata.targets==0))\n",
    "\n",
    "torch.unique(cdata.targets)"
   ]
  },
  {
   "cell_type": "code",
   "execution_count": null,
   "id": "d8ddb1e7",
   "metadata": {},
   "outputs": [],
   "source": [
    "cdata.class_to_idx"
   ]
  },
  {
   "cell_type": "code",
   "execution_count": null,
   "id": "f054f382",
   "metadata": {},
   "outputs": [],
   "source": [
    "letterCat = cdata.classes[1:]\n",
    "\n",
    "labels = copy.deepcopy(cdata.targets)-1\n",
    "print(labels.shape)\n",
    "\n",
    "print(torch.sum(labels==0))\n",
    "torch.unique(labels)"
   ]
  },
  {
   "cell_type": "code",
   "execution_count": null,
   "id": "13177c31",
   "metadata": {},
   "outputs": [],
   "source": [
    "plt.hist(images[:10,:,:,:].view(1,-1).detach(),40);\n",
    "plt.title('raw values')\n",
    "plt.show()\n",
    "\n",
    "images /= torch.max(images)\n",
    "\n",
    "plt.hist(images[:10,:,:,:].view(1,-1).detach(),40);\n",
    "plt.title('normalized values')\n",
    "plt.show()"
   ]
  },
  {
   "cell_type": "code",
   "execution_count": null,
   "id": "39088d2e",
   "metadata": {},
   "outputs": [],
   "source": [
    "#Példa adatok\n",
    "fig,axs = plt.subplots(3,7,figsize=(13,6))\n",
    "\n",
    "for i,ax in enumerate(axs.flatten()):\n",
    "    pic = np.random.randint(images.shape[0])\n",
    "    \n",
    "    I = np.squeeze( images[pic,:,:])\n",
    "    letter =letterCat[labels[pic]]\n",
    "    \n",
    "    ax.imshow(I.T, cmap='gray')\n",
    "    ax.set_title('letter \"%s\"'%letter)\n",
    "    ax.set_xticks([])\n",
    "    ax.set_yticks([])\n",
    "    \n",
    "plt.show()"
   ]
  },
  {
   "cell_type": "code",
   "execution_count": null,
   "id": "306b084a",
   "metadata": {},
   "outputs": [],
   "source": [
    "train_data, test_data ,train_labels, test_labels = train_test_split(images, labels, test_size=.1)\n",
    "\n",
    "train_data = TensorDataset(train_data,train_labels)\n",
    "test_data = TensorDataset(test_data, test_labels)\n",
    "\n",
    "batchsize = 32\n",
    "train_loader = DataLoader(train_data, batch_size=batchsize, shuffle=True, drop_last=True)\n",
    "test_loader = DataLoader(test_data, batch_size=test_data.tensors[0].shape[0])"
   ]
  },
  {
   "cell_type": "code",
   "execution_count": null,
   "id": "d25c18f8",
   "metadata": {},
   "outputs": [],
   "source": [
    "print( train_loader.dataset.tensors[0].shape )\n",
    "print( train_loader.dataset.tensors[1].shape )"
   ]
  },
  {
   "cell_type": "code",
   "execution_count": null,
   "id": "dac6fd6c",
   "metadata": {},
   "outputs": [],
   "source": [
    "def makeTheNet(printtoggle=False):\n",
    "    \n",
    "    class emnistnet(nn.Module):\n",
    "        def __init__(self, printtoggle):\n",
    "            super().__init__()\n",
    "            \n",
    "            self.print = printtoggle\n",
    "            \n",
    "            #1st convolution layer\n",
    "            self.conv1 = nn.Conv2d(1,6,3, padding=1)\n",
    "            self.bnorm1 = nn.BatchNorm2d(6)\n",
    "            \n",
    "            #2nd convoluton layer\n",
    "            self.conv2 = nn.Conv2d(6,6,3, padding=1)\n",
    "            self.bnorm2 = nn.BatchNorm2d(6)\n",
    "            \n",
    "            self.fc1 = nn.Linear(7*7*6,50)\n",
    "            self.fc2 = nn.Linear(50,26)\n",
    "            \n",
    "        def forward(self,x):\n",
    "            if self.print: print(f'Input: {list(x.shape)}')\n",
    "                \n",
    "            x = F.max_pool2d(self.conv1(x),2)\n",
    "            x = F.leaky_relu(self.bnorm1(x))\n",
    "            if self.print: print(f'first CPR block{list(x.shape)}')\n",
    "                \n",
    "            x = F.max_pool2d(self.conv2(x),2)\n",
    "            x = F.leaky_relu(self.bnorm2(x))\n",
    "            if self.print: print(f'second CPR block{list(x.shape)}')\n",
    "                \n",
    "            nUnits = x.shape.numel()/x.shape[0]\n",
    "            x = x.view(-1,int(nUnits))\n",
    "            if self.print: print(f'vectorized: {list(x.shape)}')\n",
    "                \n",
    "            x = F.leaky_relu(self.fc1(x))\n",
    "            x = self.fc2(x)\n",
    "            if self.print: print(f'final output: {list(x.shape)}')\n",
    "                \n",
    "            return x\n",
    "        \n",
    "    net = emnistnet(printtoggle)\n",
    "\n",
    "    loss = nn.CrossEntropyLoss()\n",
    "\n",
    "    optimizer = torch.optim.Adam(net.parameters(), lr=.001)\n",
    "    return net,loss,optimizer\n"
   ]
  },
  {
   "cell_type": "code",
   "execution_count": null,
   "id": "eeb1ce93",
   "metadata": {},
   "outputs": [],
   "source": [
    "net,loss,optimizer = makeTheNet(True)\n",
    "\n",
    "X,y = next(iter(train_loader))\n",
    "yHat = net(X)\n",
    "\n",
    "print('\\nOutput size:')\n",
    "print(yHat.shape)\n",
    "\n",
    "L = loss(yHat,torch.squeeze(y))\n",
    "print(' ')\n",
    "print('Loss:')\n",
    "print(L)"
   ]
  },
  {
   "cell_type": "code",
   "execution_count": null,
   "id": "ea8662ad",
   "metadata": {},
   "outputs": [],
   "source": [
    "def train():\n",
    "    epochs = 10\n",
    "    net, loss, optimizer = makeTheNet()\n",
    "    net.to(device)\n",
    "    \n",
    "    trainloss = torch.zeros(epochs)\n",
    "    testloss = torch.zeros(epochs)\n",
    "    trainerr = torch.zeros(epochs)\n",
    "    testerr = torch.zeros(epochs)\n",
    "    \n",
    "    for epochi in range(epochs):\n",
    "        net.train()\n",
    "        batchloss = []\n",
    "        batcherr = []\n",
    "        \n",
    "        for X, y in train_loader:\n",
    "            X = X.to(device)\n",
    "            y = y.to(device)\n",
    "            \n",
    "            yHat = net(X)\n",
    "            L = loss(yHat, y)\n",
    "            \n",
    "            optimizer.zero_grad()\n",
    "            L.backward()\n",
    "            optimizer.step()\n",
    "            \n",
    "            batchloss.append(L.item())\n",
    "            batcherr.append(torch.mean((torch.argmax(yHat, axis=1) != y).float()).item())\n",
    "            \n",
    "        trainloss[epochi] = np.mean(batchloss)\n",
    "        trainerr[epochi] = 100 * np.mean(batcherr)\n",
    "        \n",
    "        net.eval()\n",
    "        X, y = next(iter(test_loader))\n",
    "        X = X.to(device)\n",
    "        y = y.to(device)\n",
    "            \n",
    "        with torch.no_grad():\n",
    "            yHat = net(X)\n",
    "            L = loss(yHat, y)\n",
    "            \n",
    "        testloss[epochi] = L.item()\n",
    "        testerr[epochi] = torch.mean((torch.argmax(yHat, axis=1) != y).float()).item() * 100\n",
    "        \n",
    "    return trainloss, testloss, trainerr, testerr, net"
   ]
  },
  {
   "cell_type": "code",
   "execution_count": null,
   "id": "eaff8c48",
   "metadata": {},
   "outputs": [],
   "source": [
    "trainloss, testloss, trainerr, testerr, net= train()"
   ]
  },
  {
   "cell_type": "code",
   "execution_count": null,
   "id": "5603a8d0",
   "metadata": {},
   "outputs": [],
   "source": [
    "fig,ax = plt.subplots(1,2,figsize=(16,5))\n",
    "\n",
    "ax[0].plot(trainloss, 's-', label='train')\n",
    "ax[0].plot(testloss, 'o-', label='test')\n",
    "ax[0].set_xlabel('Epochs')\n",
    "ax[0].set_ylabel('Loss')\n",
    "ax[0].set_title('Modell loss')\n",
    "ax[0].legend()\n",
    "\n",
    "ax[1].plot(trainerr, 's-', label='train')\n",
    "ax[1].plot(testerr, 'o-', label='test')\n",
    "ax[1].set_xlabel('Epochs')\n",
    "ax[1].set_ylabel('Error rate (%)')\n",
    "ax[1].set_title(f'Final model test error rate: {testerr[-1]:.2f}%')\n",
    "ax[1].legend()\n",
    "\n",
    "plt.show()"
   ]
  },
  {
   "cell_type": "code",
   "execution_count": null,
   "id": "6fef7bb5",
   "metadata": {},
   "outputs": [],
   "source": [
    "X,y = next(iter(test_loader))\n",
    "X= X.to(device)\n",
    "y = y.to(device)\n",
    "yHat = net(X)\n",
    "\n",
    "randex = np.random.choice(len(y), size=21, replace=False)\n",
    "fig,axs = plt.subplots(3,7, figsize=(15,6))\n",
    "\n",
    "for i,ax in enumerate(axs.flatten()):\n",
    "    I = np.squeeze( X[randex[i],0,:,:]).cpu()\n",
    "    trueletter = letterCat[ y[randex[i]]]\n",
    "    predletter = letterCat[ torch.argmax(yHat[randex[i],:])]\n",
    "    \n",
    "    col = 'gray' if trueletter==predletter else 'hot'\n",
    "    \n",
    "    ax.imshow(I.T, cmap=col)\n",
    "    ax.set_title('True %s, pred %s' %(trueletter,predletter),fontsize=10)\n",
    "    ax.set_xticks([])\n",
    "    ax.set_yticks([])\n",
    "    \n",
    "plt.show()"
   ]
  },
  {
   "cell_type": "markdown",
   "id": "048c3bc1",
   "metadata": {},
   "source": [
    "# Drawing app"
   ]
  },
  {
   "cell_type": "markdown",
   "id": "3ba3499d",
   "metadata": {},
   "source": [
    "Az előzőleg betanított modell használata felhasználó által rajzolt karakterek megállapytására."
   ]
  },
  {
   "cell_type": "code",
   "execution_count": null,
   "id": "a0b2d777",
   "metadata": {},
   "outputs": [],
   "source": [
    "root = tk.Tk()\n",
    "\n",
    "def draw(event):\n",
    "    x, y = event.x, event.y\n",
    "    r = 5\n",
    "    canvas.create_oval(x-r, y-r, x+r, y+r, fill=\"white\", outline=\"white\")\n",
    "    draw.ellipse((x-r, y-r, x+r, y+r), fill=\"white\")\n",
    "\n",
    "def clear():\n",
    "    canvas.delete(\"all\")\n",
    "    image = Image.new(\"L\", (280, 280), \"black\")\n",
    "    draw = ImageDraw.Draw(image)\n",
    "\n",
    "def add_noise(image):\n",
    "    noise = np.random.normal(scale=5, size=image.shape)\n",
    "    noisy_image = np.clip(image + noise, 0, 1)\n",
    "    return noisy_image\n",
    "\n",
    "def recognize():\n",
    "    gray_image = image.convert(\"L\")\n",
    "    image_array = np.array(gray_image).astype(np.float32) / 255.0\n",
    "\n",
    "    # Nagyon nagy zaj hozzáadása a képhez\n",
    "    noisy_image = add_noise(image_array)\n",
    "\n",
    "    # A zajos képet átméretezzük és normalizáljuk\n",
    "    resized_image = Image.fromarray(np.uint8(noisy_image * 255), 'L').resize((28, 28))\n",
    "    preprocessed_image = np.array(resized_image).astype(np.float32) / 255.0\n",
    "    preprocessed_image = torch.tensor(preprocessed_image).view(1, 1, 28, 28)\n",
    "\n",
    "    with torch.no_grad():\n",
    "        prediction = net(preprocessed_image)\n",
    "    predicted_class = torch.argmax(prediction).item()\n",
    "    predicted_letter = letterCat[predicted_class]\n",
    "\n",
    "    # Az előrejelzés kiírása egy message boxban\n",
    "    messagebox.showinfo(\"Eredmény\", f\"Rajzolt betű előrejelzése: {predicted_letter}\")\n",
    "\n",
    "canvas = Canvas(root, width=280, height=280, bg='black')\n",
    "canvas.pack()\n",
    "\n",
    "canvas.bind(\"<B1-Motion>\", draw)\n",
    "\n",
    "clear_button = Button(root, text=\"Törlés\", command=clear)\n",
    "clear_button.pack()\n",
    "\n",
    "recognize_button = Button(root, text=\"Felismerés\", command=recognize)\n",
    "recognize_button.pack()\n",
    "\n",
    "image = Image.new(\"L\", (280, 280), \"black\")\n",
    "draw = ImageDraw.Draw(image)\n",
    "\n",
    "root.mainloop()\n"
   ]
  },
  {
   "cell_type": "code",
   "execution_count": null,
   "id": "9fc1a813",
   "metadata": {},
   "outputs": [],
   "source": []
  }
 ],
 "metadata": {
  "kernelspec": {
   "display_name": "Python 3 (ipykernel)",
   "language": "python",
   "name": "python3"
  },
  "language_info": {
   "codemirror_mode": {
    "name": "ipython",
    "version": 3
   },
   "file_extension": ".py",
   "mimetype": "text/x-python",
   "name": "python",
   "nbconvert_exporter": "python",
   "pygments_lexer": "ipython3",
   "version": "3.11.3"
  }
 },
 "nbformat": 4,
 "nbformat_minor": 5
}
