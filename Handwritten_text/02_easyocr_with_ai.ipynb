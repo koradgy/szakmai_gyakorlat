{
 "cells": [
  {
   "cell_type": "code",
   "execution_count": null,
   "id": "fe55fc3f",
   "metadata": {},
   "outputs": [],
   "source": [
    "import numpy as np\n",
    "from sklearn.neural_network import MLPClassifier\n",
    "from sklearn.metrics import accuracy_score\n",
    "from skimage import io, color, transform\n",
    "import matplotlib.pyplot as plt\n",
    "import easyocr\n",
    "import cv2\n",
    "from PIL import Image\n",
    "import os"
   ]
  },
  {
   "cell_type": "code",
   "execution_count": null,
   "id": "7b9e6e3a",
   "metadata": {},
   "outputs": [],
   "source": [
    "x_train = np.loadtxt('Dataset/emnist-letters-train.csv', delimiter=',', skiprows=1)\n",
    "x_test = np.loadtxt('Dataset/emnist-letters-test.csv', delimiter=',', skiprows=1)\n",
    "\n",
    "y_train = x_train[:, 0].astype(int)\n",
    "y_test = x_test[:, 0].astype(int)\n",
    "\n",
    "x_train = x_train[:, 1:].reshape(x_train.shape[0], -1) / 255.0\n",
    "x_test = x_test[:, 1:].reshape(x_test.shape[0], -1) / 255.0\n",
    "model = MLPClassifier(hidden_layer_sizes=(128,), max_iter=5, activation='relu', solver='adam', random_state=42)\n",
    "\n",
    "model.fit(x_train, y_train)\n",
    "y_pred = model.predict(x_test)\n",
    "\n",
    "accuracy = accuracy_score(y_test, y_pred)\n",
    "print('Test accuracy:', accuracy)"
   ]
  },
  {
   "cell_type": "code",
   "execution_count": null,
   "id": "06771fbf",
   "metadata": {},
   "outputs": [],
   "source": [
    "def recognize_characters(image_path):\n",
    "    character_mapping = \"abcdefghijklmnopqrstuvwxyz\"\n",
    "    char_size = 28\n",
    "    image = Image.open(image_path).convert('L')\n",
    "    characters = []\n",
    "    width, height = image.size\n",
    "    \n",
    "    for x in range(0, width - char_size, char_size):\n",
    "        for y in range(0, height - char_size, char_size):\n",
    "            region = image.crop((x, y, x + char_size, y + char_size))\n",
    "            region_array = np.array(region)\n",
    "            normalized_image = transform.resize(region_array, (28, 28)) / 255.0\n",
    "            characters.append(normalized_image.reshape(-1))\n",
    "    \n",
    "    characters = np.array(characters).reshape(-1, 28 * 28)\n",
    "    characters_with_extra_dim = np.c_[characters, np.zeros(len(characters))]  # Hozzáadunk egy további elemet\n",
    "    \n",
    "    predicted_labels = model.predict(characters_with_extra_dim)\n",
    "    recognized_text = ''.join([character_mapping[int(label)] for label in predicted_labels])\n",
    "    return recognized_text\n",
    "\n",
    "characters_with_extra_dim = np.c_[characters, np.zeros(len(characters))]  # Hozzáadunk egy további elemet\n",
    "characters_with_extra_dim = characters_with_extra_dim[:, :-1]  # Törlés az utolsó oszlopból\n",
    "\n",
    "predicted_labels = model.predict(characters_with_extra_dim)\n",
    "recognized_text = ''.join([character_mapping[int(label)] for label in predicted_labels])\n",
    "print(f\"Recognized text: {recognized_text}\")\n"
   ]
  },
  {
   "cell_type": "code",
   "execution_count": null,
   "id": "d334ea73",
   "metadata": {},
   "outputs": [],
   "source": [
    "def recognize_characters(image_path):\n",
    "    character_mapping = \"abcdefghijklmnopqrstuvwxyz\"\n",
    "    char_size = 28\n",
    "    \n",
    "    # Kép betöltése és szürkeárnyalatos konverzió\n",
    "    image = Image.open(image_path).convert('L')\n",
    "    \n",
    "    characters = []\n",
    "    width, height = image.size\n",
    "    \n",
    "    for x in range(0, width - char_size, char_size):\n",
    "        for y in range(0, height - char_size, char_size):\n",
    "            region = image.crop((x, y, x + char_size, y + char_size))\n",
    "            region_array = np.array(region)\n",
    "            normalized_image = transform.resize(region_array, (28, 28)) / 255.0\n",
    "            characters.append(normalized_image.reshape(-1))\n",
    "    \n",
    "    characters = np.array(characters).reshape(-1, 28 * 28)\n",
    "    characters_with_extra_dim = np.c_[characters, np.zeros(len(characters))]  # Hozzáadunk egy további elemet\n",
    "    \n",
    "    predicted_labels = model.predict(characters_with_extra_dim)\n",
    "    recognized_text = ''.join([character_mapping[int(label)] for label in predicted_labels])\n",
    "    return recognized_text\n",
    "\n",
    "# Kézírásos karakterek felismerése\n",
    "recognized_text = recognize_characters('Data/Handwriting/1.jpg')\n",
    "print(f\"Recognized text: {recognized_text}\")"
   ]
  },
  {
   "cell_type": "code",
   "execution_count": null,
   "id": "1a30fd21",
   "metadata": {},
   "outputs": [],
   "source": []
  }
 ],
 "metadata": {
  "kernelspec": {
   "display_name": "Python 3 (ipykernel)",
   "language": "python",
   "name": "python3"
  },
  "language_info": {
   "codemirror_mode": {
    "name": "ipython",
    "version": 3
   },
   "file_extension": ".py",
   "mimetype": "text/x-python",
   "name": "python",
   "nbconvert_exporter": "python",
   "pygments_lexer": "ipython3",
   "version": "3.11.3"
  }
 },
 "nbformat": 4,
 "nbformat_minor": 5
}
