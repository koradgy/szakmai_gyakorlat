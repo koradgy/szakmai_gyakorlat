{
 "cells": [
  {
   "cell_type": "code",
   "execution_count": 1,
   "id": "a7091816",
   "metadata": {},
   "outputs": [
    {
     "name": "stderr",
     "output_type": "stream",
     "text": [
      "2023-08-28 09:16:32.001081: I tensorflow/tsl/cuda/cudart_stub.cc:28] Could not find cuda drivers on your machine, GPU will not be used.\n",
      "2023-08-28 09:16:32.052489: I tensorflow/tsl/cuda/cudart_stub.cc:28] Could not find cuda drivers on your machine, GPU will not be used.\n",
      "2023-08-28 09:16:32.053683: I tensorflow/core/platform/cpu_feature_guard.cc:182] This TensorFlow binary is optimized to use available CPU instructions in performance-critical operations.\n",
      "To enable the following instructions: AVX2 FMA, in other operations, rebuild TensorFlow with the appropriate compiler flags.\n",
      "2023-08-28 09:16:33.200891: W tensorflow/compiler/tf2tensorrt/utils/py_utils.cc:38] TF-TRT Warning: Could not find TensorRT\n"
     ]
    }
   ],
   "source": [
    "from tensorflow.keras.layers import StringLookup\n",
    "from tensorflow import keras\n",
    "\n",
    "import matplotlib.pyplot as plt\n",
    "import tensorflow as tf\n",
    "import numpy as np\n",
    "import cv2\n",
    "import os\n",
    "import pytesseract\n",
    "import tkinter as tk\n",
    "from PIL import Image, ImageDraw, ImageTk, ImageEnhance, ImageFilter\n",
    "from tkinter import messagebox"
   ]
  },
  {
   "cell_type": "code",
   "execution_count": 2,
   "id": "837c8e10",
   "metadata": {},
   "outputs": [
    {
     "name": "stderr",
     "output_type": "stream",
     "text": [
      "2023-08-28 09:16:34.813305: I tensorflow/compiler/xla/stream_executor/cuda/cuda_gpu_executor.cc:995] successful NUMA node read from SysFS had negative value (-1), but there must be at least one NUMA node, so returning NUMA node zero. See more at https://github.com/torvalds/linux/blob/v6.0/Documentation/ABI/testing/sysfs-bus-pci#L344-L355\n",
      "2023-08-28 09:16:34.841526: W tensorflow/core/common_runtime/gpu/gpu_device.cc:1960] Cannot dlopen some GPU libraries. Please make sure the missing libraries mentioned above are installed properly if you would like to use GPU. Follow the guide at https://www.tensorflow.org/install/gpu for how to download and setup the required libraries for your platform.\n",
      "Skipping registering GPU devices...\n"
     ]
    }
   ],
   "source": [
    "model = tf.keras.models.load_model(\"Data/model/\")"
   ]
  },
  {
   "cell_type": "code",
   "execution_count": 3,
   "id": "afb615ce",
   "metadata": {},
   "outputs": [
    {
     "name": "stdout",
     "output_type": "stream",
     "text": [
      "1/1 [==============================] - 2s 2s/step\n"
     ]
    }
   ],
   "source": [
    "import tkinter as tk\n",
    "from PIL import Image, ImageDraw\n",
    "\n",
    "class HandwritingRecognizerApp:\n",
    "    def __init__(self, root):\n",
    "        self.root = root\n",
    "        self.root.title(\"Handwriting Recognizer\")\n",
    "\n",
    "        # Rajzterület létrehozása\n",
    "        self.canvas = tk.Canvas(self.root, bg=\"white\", width=400, height=200)\n",
    "        self.canvas.pack()\n",
    "\n",
    "        self.canvas.bind(\"<Button-1>\", self.start_draw)\n",
    "        self.canvas.bind(\"<B1-Motion>\", self.draw)\n",
    "        self.canvas.bind(\"<ButtonRelease-1>\", self.stop_draw)\n",
    "\n",
    "        # Gomb létrehozása a predikció indításához\n",
    "        self.predict_button = tk.Button(self.root, text=\"Predict\", command=self.predict)\n",
    "        self.predict_button.pack()\n",
    "\n",
    "        # Gomb létrehozása a rajz törléséhez\n",
    "        self.clear_button = tk.Button(self.root, text=\"Clear\", command=self.clear_canvas)\n",
    "        self.clear_button.pack()\n",
    "\n",
    "        # RajzoSlás változók\n",
    "        self.drawing = False\n",
    "        self.image = Image.new(\"L\", (400, 200), \"white\")\n",
    "        self.draw = ImageDraw.Draw(self.image)\n",
    "\n",
    "        # Eredmény megjelenítése\n",
    "        self.result_label = tk.Label(self.root, text=\"\", font=(\"Helvetica\", 16))\n",
    "        self.result_label.pack()\n",
    "\n",
    "    def start_draw(self, event):\n",
    "        self.drawing = True\n",
    "        self.last_x = event.x\n",
    "        self.last_y = event.y\n",
    "\n",
    "    def draw(self, event):\n",
    "        if self.drawing:\n",
    "            x, y = event.x, event.y\n",
    "            self.canvas.create_line(self.last_x, self.last_y, x, y, fill=\"black\", width=5)\n",
    "            self.draw.line((self.last_x, self.last_y, x, y), fill=\"black\", width=5)\n",
    "            self.last_x = x\n",
    "            self.last_y = y\n",
    "\n",
    "    def stop_draw(self, event):\n",
    "        self.drawing = False\n",
    "\n",
    "\n",
    "    def preprocess_image(self, image):\n",
    "        # Kontraszt-növelés és világosság-állítás\n",
    "        enhanced_image = ImageEnhance.Contrast(image).enhance(1.0)\n",
    "    \n",
    "        # Szürkeárnyalat konverzió\n",
    "        gray_image = enhanced_image.convert(\"L\")\n",
    "    \n",
    "        # Küszöbölés\n",
    "        threshold = 200\n",
    "        thresholded_image = gray_image.point(lambda p: p > threshold and 255)\n",
    "    \n",
    "        # Éldetektálás (Canny éldetektor használata)\n",
    "        edge_image = thresholded_image.filter(ImageFilter.FIND_EDGES)\n",
    "    \n",
    "        return edge_image\n",
    "\n",
    "\n",
    "    def predict(self):\n",
    "        # Előfeldolgozási lépések a képen\n",
    "        preprocessed_image = self.preprocess_image(self.image)\n",
    "    \n",
    "        resized_image = preprocessed_image.resize((32, 128), Image.LANCZOS)\n",
    "        image_array = np.array(resized_image) / 255.0\n",
    "        image_array = np.expand_dims(image_array, axis=-1)\n",
    "        image_array = np.expand_dims(image_array, axis=0)\n",
    "    \n",
    "        input_label_data = np.array([[1, 2, 3, 4]])  # Példa címke\n",
    "        label_seq = np.zeros((1,1))\n",
    "    \n",
    "        predictions = model.predict([image_array, label_seq])\n",
    "    \n",
    "        decoded_sequence, _ = keras.backend.ctc_decode(predictions,input_length=np.ones(predictions.shape[0]) * predictions.shape[1])\n",
    "        output = keras.backend.get_value(decoded_sequence)[0][0]\n",
    "        predicted_text = ''.join([chr(x) for x in output if x != -1])\n",
    "    \n",
    "        # Üzenetablakban jelenítse meg a predikciót\n",
    "        messagebox.showinfo(\"Prediction Result\", f\"Predicted Text: {predicted_text}\")\n",
    "\n",
    "\n",
    "    def clear_canvas(self):\n",
    "        self.canvas.delete(\"all\")  # Törli a rajzot a vászonról\n",
    "        self.image = Image.new(\"L\", (128, 512), \"white\")\n",
    "        self.draw = ImageDraw.Draw(self.image)\n",
    "        self.result_label.config(text=\"\")  # Törli az eredményt a vászonról\n",
    "\n",
    "# GUI indítása\n",
    "root = tk.Tk()\n",
    "app = HandwritingRecognizerApp(root)\n",
    "root.mainloop()\n"
   ]
  },
  {
   "cell_type": "code",
   "execution_count": null,
   "id": "30874db2-ccfe-4967-895c-4d24497d0597",
   "metadata": {},
   "outputs": [],
   "source": []
  }
 ],
 "metadata": {
  "kernelspec": {
   "display_name": "Python 3 (ipykernel)",
   "language": "python",
   "name": "python3"
  },
  "language_info": {
   "codemirror_mode": {
    "name": "ipython",
    "version": 3
   },
   "file_extension": ".py",
   "mimetype": "text/x-python",
   "name": "python",
   "nbconvert_exporter": "python",
   "pygments_lexer": "ipython3",
   "version": "3.11.3"
  }
 },
 "nbformat": 4,
 "nbformat_minor": 5
}
