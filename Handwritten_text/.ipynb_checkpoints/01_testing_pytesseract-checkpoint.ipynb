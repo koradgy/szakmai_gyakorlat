{
 "cells": [
  {
   "cell_type": "code",
   "execution_count": null,
   "id": "593b4f3f",
   "metadata": {},
   "outputs": [],
   "source": [
    "import cv2\n",
    "import pytesseract\n",
    "import matplotlib.pyplot as plt"
   ]
  },
  {
   "cell_type": "markdown",
   "id": "463a943a",
   "metadata": {},
   "source": [
    "# Kézírásszerű betűtípus"
   ]
  },
  {
   "cell_type": "code",
   "execution_count": null,
   "id": "ae6eb8d5",
   "metadata": {},
   "outputs": [],
   "source": [
    "image_path = 'Data/Handwriten_font/page1.jpg'\n",
    "image = cv2.imread(image_path)\n",
    "\n",
    "gray_image = cv2.cvtColor(image, cv2.COLOR_BGR2GRAY)\n",
    "height, width = gray_image.shape\n",
    "\n",
    "recognized_data = pytesseract.image_to_boxes(gray_image, config='--psm 6', output_type=pytesseract.Output.DICT)\n",
    "\n",
    "for i in range(len(recognized_data['char'])):\n",
    "    char = recognized_data['char'][i]\n",
    "    left = recognized_data['left'][i]\n",
    "    bottom = height - recognized_data['top'][i]\n",
    "    right = recognized_data['right'][i]\n",
    "    top = height - recognized_data['bottom'][i]\n",
    "\n",
    "    cv2.rectangle(image, (left, top), (right, bottom), (0, 255, 0), 2)\n",
    "\n",
    "    \n",
    "plt.figure(figsize=(25, 15))\n",
    "plt.imshow(cv2.cvtColor(image, cv2.COLOR_BGR2RGB))\n",
    "plt.title('Felismert karakterek')\n",
    "plt.show()\n",
    "\n",
    "recognized_text = ' '.join(recognized_data['char'])\n",
    "print(recognized_text)\n"
   ]
  },
  {
   "cell_type": "markdown",
   "id": "f4ef4a5f",
   "metadata": {},
   "source": [
    "# Kézzel írt szöveg"
   ]
  },
  {
   "cell_type": "code",
   "execution_count": null,
   "id": "f53e55ec",
   "metadata": {},
   "outputs": [],
   "source": [
    "image_path = 'Data/Handwriting/1.jpg'\n",
    "image = cv2.imread(image_path)\n",
    "gray_image = cv2.cvtColor(image, cv2.COLOR_BGR2GRAY)\n",
    "height, width = gray_image.shape\n",
    "\n",
    "recognized_data = pytesseract.image_to_boxes(gray_image, config='--psm 6', output_type=pytesseract.Output.DICT)\n",
    "\n",
    "for i in range(len(recognized_data['char'])):\n",
    "    char = recognized_data['char'][i]\n",
    "    left = recognized_data['left'][i]\n",
    "    bottom = height - recognized_data['top'][i]\n",
    "    right = recognized_data['right'][i]\n",
    "    top = height - recognized_data['bottom'][i]\n",
    "    cv2.rectangle(image, (left, top), (right, bottom), (0, 255, 0), 2)\n",
    "\n",
    "plt.figure(figsize=(25, 15))\n",
    "plt.imshow(cv2.cvtColor(image, cv2.COLOR_BGR2RGB))\n",
    "plt.title('Felismert karakterek')\n",
    "plt.show()\n",
    "\n",
    "recognized_text = ' '.join(recognized_data['char'])\n",
    "print(recognized_text)\n"
   ]
  },
  {
   "cell_type": "code",
   "execution_count": null,
   "id": "3b669d68",
   "metadata": {},
   "outputs": [],
   "source": []
  }
 ],
 "metadata": {
  "kernelspec": {
   "display_name": "Python 3 (ipykernel)",
   "language": "python",
   "name": "python3"
  },
  "language_info": {
   "codemirror_mode": {
    "name": "ipython",
    "version": 3
   },
   "file_extension": ".py",
   "mimetype": "text/x-python",
   "name": "python",
   "nbconvert_exporter": "python",
   "pygments_lexer": "ipython3",
   "version": "3.11.3"
  }
 },
 "nbformat": 4,
 "nbformat_minor": 5
}
