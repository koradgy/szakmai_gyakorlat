{
 "cells": [
  {
   "cell_type": "code",
   "execution_count": null,
   "id": "c81e0d9d",
   "metadata": {},
   "outputs": [],
   "source": [
    "import easyocr\n",
    "import cv2\n",
    "from matplotlib import pyplot as plt\n",
    "import numpy as np\n",
    "from PIL import Image"
   ]
  },
  {
   "cell_type": "code",
   "execution_count": null,
   "id": "e5cbe9ea",
   "metadata": {},
   "outputs": [],
   "source": [
    "image1 = 'Data/Images/sign1.png'\n",
    "image2 = 'Data/Images/meme.png'"
   ]
  },
  {
   "cell_type": "markdown",
   "id": "35b870eb",
   "metadata": {},
   "source": [
    "# Read image"
   ]
  },
  {
   "cell_type": "code",
   "execution_count": null,
   "id": "2aa90009",
   "metadata": {
    "scrolled": true
   },
   "outputs": [],
   "source": [
    "reader = easyocr.Reader(['en'])\n",
    "result = reader.readtext(image1)"
   ]
  },
  {
   "cell_type": "markdown",
   "id": "845f21a1",
   "metadata": {},
   "source": [
    "# Show results"
   ]
  },
  {
   "cell_type": "code",
   "execution_count": null,
   "id": "105725e7",
   "metadata": {},
   "outputs": [],
   "source": [
    "top_left = tuple(result[0][0][0])\n",
    "bottom_right = tuple(result[0][0][2])\n",
    "text = result[0][1]\n",
    "font = cv2.FONT_HERSHEY_SIMPLEX"
   ]
  },
  {
   "cell_type": "markdown",
   "id": "d278ac48",
   "metadata": {},
   "source": [
    "# Handling multiple lines"
   ]
  },
  {
   "cell_type": "code",
   "execution_count": null,
   "id": "c9b9ad53",
   "metadata": {
    "scrolled": true
   },
   "outputs": [],
   "source": [
    "img = cv2.imread(image1)\n",
    "spacer = 100\n",
    "for detection in result: \n",
    "    top_left = tuple(detection[0][0])\n",
    "    bottom_right = tuple(detection[0][2])\n",
    "    text = detection[1]\n",
    "    img = cv2.rectangle(img,top_left,bottom_right,(0,255,0),3)\n",
    "    #img = cv2.putText(img,text,(20,spacer), font, 0.5,(0,255,0),2,cv2.LINE_AA)\n",
    "    spacer+=15\n",
    "    print(text)\n",
    "    \n",
    "plt.imshow(img)\n",
    "plt.show()"
   ]
  },
  {
   "cell_type": "code",
   "execution_count": null,
   "id": "e844cd90",
   "metadata": {},
   "outputs": [],
   "source": [
    "reader2 = easyocr.Reader(['en'])\n",
    "result2 = reader2.readtext(image2)"
   ]
  },
  {
   "cell_type": "code",
   "execution_count": null,
   "id": "280c10ab",
   "metadata": {},
   "outputs": [],
   "source": [
    "img2 = cv2.imread(image2)\n",
    "spacer = 100\n",
    "for detection in result2: \n",
    "    top_left = tuple(detection[0][0])\n",
    "    bottom_right = tuple(detection[0][2])\n",
    "    text = detection[1]\n",
    "    img2 = cv2.rectangle(img2,top_left,bottom_right,(0,255,0),3)\n",
    "    spacer+=15\n",
    "    print(text)\n",
    "    \n",
    "plt.imshow(img2)\n",
    "plt.show()"
   ]
  },
  {
   "cell_type": "markdown",
   "id": "e9c14d39",
   "metadata": {},
   "source": [
    "# Page of text"
   ]
  },
  {
   "cell_type": "code",
   "execution_count": null,
   "id": "884063ed",
   "metadata": {},
   "outputs": [],
   "source": [
    "page = 'Data/Handwriten_font/page1.jpg'"
   ]
  },
  {
   "cell_type": "code",
   "execution_count": null,
   "id": "d38389e7",
   "metadata": {},
   "outputs": [],
   "source": [
    "reader = easyocr.Reader(['en'])\n",
    "result = reader.readtext(page, detail=0)"
   ]
  },
  {
   "cell_type": "code",
   "execution_count": null,
   "id": "125f513e",
   "metadata": {},
   "outputs": [],
   "source": [
    "print(result)"
   ]
  },
  {
   "cell_type": "code",
   "execution_count": null,
   "id": "bfa8e069",
   "metadata": {},
   "outputs": [],
   "source": [
    "writing = 'Data/Handwriting/1.jpg'"
   ]
  },
  {
   "cell_type": "code",
   "execution_count": null,
   "id": "ab9af957",
   "metadata": {},
   "outputs": [],
   "source": [
    "reader = easyocr.Reader(['en'])\n",
    "result = reader.readtext(writing, detail=0)"
   ]
  },
  {
   "cell_type": "code",
   "execution_count": null,
   "id": "a76a4b17",
   "metadata": {},
   "outputs": [],
   "source": [
    "print(result)"
   ]
  },
  {
   "cell_type": "code",
   "execution_count": null,
   "id": "35659af2",
   "metadata": {},
   "outputs": [],
   "source": []
  }
 ],
 "metadata": {
  "kernelspec": {
   "display_name": "Python 3 (ipykernel)",
   "language": "python",
   "name": "python3"
  },
  "language_info": {
   "codemirror_mode": {
    "name": "ipython",
    "version": 3
   },
   "file_extension": ".py",
   "mimetype": "text/x-python",
   "name": "python",
   "nbconvert_exporter": "python",
   "pygments_lexer": "ipython3",
   "version": "3.11.3"
  }
 },
 "nbformat": 4,
 "nbformat_minor": 5
}
