{
 "cells": [
  {
   "cell_type": "markdown",
   "id": "1c66c457",
   "metadata": {},
   "source": [
    "# Line detection"
   ]
  },
  {
   "cell_type": "code",
   "execution_count": null,
   "id": "076dcb97",
   "metadata": {},
   "outputs": [],
   "source": [
    "import cv2\n",
    "import matplotlib.pyplot as plt"
   ]
  },
  {
   "cell_type": "code",
   "execution_count": null,
   "id": "65e9d4c8",
   "metadata": {},
   "outputs": [],
   "source": [
    "image = cv2.imread('Images/lines.png')\n",
    "\n",
    "gray = cv2.cvtColor(image, cv2.COLOR_BGR2GRAY)\n",
    "edges = cv2.Canny(gray, 50, 100)\n",
    "#cv2.Canny(image, contour strength, contour detecting)\n",
    "\n",
    "contours, _ = cv2.findContours(edges, cv2.RETR_EXTERNAL, cv2.CHAIN_APPROX_SIMPLE)\n",
    "\n",
    "contour_img = image.copy()\n",
    "cv2.drawContours(contour_img, contours, -1, (255,0, 255), 2)\n",
    "\n",
    "plt.imshow(cv2.cvtColor(contour_img, cv2.COLOR_BGR2RGB))\n",
    "plt.title('Kontúrok')\n",
    "plt.axis('off')\n",
    "\n",
    "plt.show()\n"
   ]
  },
  {
   "cell_type": "code",
   "execution_count": null,
   "id": "3a405068",
   "metadata": {},
   "outputs": [],
   "source": []
  }
 ],
 "metadata": {
  "kernelspec": {
   "display_name": "Python 3 (ipykernel)",
   "language": "python",
   "name": "python3"
  },
  "language_info": {
   "codemirror_mode": {
    "name": "ipython",
    "version": 3
   },
   "file_extension": ".py",
   "mimetype": "text/x-python",
   "name": "python",
   "nbconvert_exporter": "python",
   "pygments_lexer": "ipython3",
   "version": "3.11.3"
  }
 },
 "nbformat": 4,
 "nbformat_minor": 5
}
