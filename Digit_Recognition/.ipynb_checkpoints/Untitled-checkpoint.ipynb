{
 "cells": [
  {
   "cell_type": "markdown",
   "id": "891e4fea",
   "metadata": {},
   "source": [
    "# Scikit-Learn course alapján\n",
    "#### https://youtu.be/pqNCD_5r0IU?t=9151"
   ]
  },
  {
   "cell_type": "code",
   "execution_count": 2,
   "id": "42f9b4a4",
   "metadata": {},
   "outputs": [],
   "source": [
    "import mnist\n",
    "from sklearn.neural_network import MLPClassifier\n",
    "from sklearn.metrics import confusion_matrix\n",
    "from PIL import Image\n",
    "import matplotlib.pyplot as plt\n",
    "import matplotlib.image as mpimg\n",
    "import numpy as np\n",
    "import os"
   ]
  },
  {
   "cell_type": "code",
   "execution_count": 3,
   "id": "aef4c968",
   "metadata": {},
   "outputs": [],
   "source": [
    "xtrain = mnist.train_images()\n",
    "ytrain = mnist.train_labels()\n",
    "\n",
    "xtest = mnist.test_images()\n",
    "ytest = mnist.test_labels()"
   ]
  },
  {
   "cell_type": "code",
   "execution_count": 4,
   "id": "ac45dc1a",
   "metadata": {},
   "outputs": [],
   "source": [
    "xtrain = xtrain.reshape((-1, 28*28))\n",
    "xtest = xtest.reshape((-1,28*28))"
   ]
  },
  {
   "cell_type": "code",
   "execution_count": 5,
   "id": "e610452b",
   "metadata": {},
   "outputs": [],
   "source": [
    "xtrain = np.array(xtrain/256)\n",
    "xtest = np.array(xtest/256)"
   ]
  },
  {
   "cell_type": "code",
   "execution_count": 6,
   "id": "0ca3473c",
   "metadata": {},
   "outputs": [],
   "source": [
    "clf = MLPClassifier(solver='adam', activation='relu', hidden_layer_sizes=(64,64))\n",
    "clf.fit(xtrain,ytrain)"
   ]
  },
  {
   "cell_type": "code",
   "execution_count": 7,
   "id": "936f12a7",
   "metadata": {},
   "outputs": [],
   "source": [
    "prediction = clf.predict(xtest)"
   ]
  },
  {
   "cell_type": "code",
   "execution_count": 8,
   "id": "d75f5daf",
   "metadata": {},
   "outputs": [],
   "source": [
    "acc = confusion_matrix(ytest, prediction)"
   ]
  },
  {
   "cell_type": "code",
   "execution_count": 9,
   "id": "c70c4a4d",
   "metadata": {},
   "outputs": [],
   "source": [
    "def accuracy(cm):\n",
    "    diag = cm.trace()\n",
    "    elements = cm.sum()\n",
    "    return diag/elements\n",
    "\n",
    "print(accuracy(acc))"
   ]
  },
  {
   "cell_type": "code",
   "execution_count": 10,
   "id": "78cfdced",
   "metadata": {},
   "outputs": [],
   "source": [
    "def ImagetoBin(img):\n",
    "    data = list(img.getdata())\n",
    "    for i in range(len(data)):\n",
    "        data[i] = 255 - data[i]\n",
    "    data = np.array(data)/256.0\n",
    "    return data"
   ]
  },
  {
   "cell_type": "code",
   "execution_count": 13,
   "id": "95996606",
   "metadata": {},
   "outputs": [],
   "source": [
    "image_folder = \"data\"\n",
    "images = []\n",
    "predictions = []\n",
    "\n",
    "# Képek beolvasása és osztályozás végrehajtása\n",
    "for filename in os.listdir(image_folder):\n",
    "    if filename.endswith(\".png\"):\n",
    "        file_path = os.path.join(image_folder, filename)\n",
    "        image = Image.open(file_path)\n",
    "        binimg = ImagetoBin(image)\n",
    "        p = clf.predict([binimg])\n",
    "        images.append(image)\n",
    "        predictions.append(p)\n",
    "\n",
    "fig, axes = plt.subplots(2, 5, figsize=(10, 4))\n",
    "\n",
    "for i, ax in enumerate(axes.flat):\n",
    "    ax.imshow(images[i], cmap='gray')\n",
    "    ax.set_title(\"Prediction: {}\".format(predictions[i]))\n",
    "\n",
    "plt.tight_layout()\n",
    "plt.show()"
   ]
  },
  {
   "cell_type": "code",
   "execution_count": 12,
   "id": "593924c2",
   "metadata": {},
   "outputs": [],
   "source": [
    "zero = [100, 100, 100, 100, 101, 102, 101, 101, 101, 103, 102, 103, 101, 101, 101, 100, 99, 98, 99, 99, 100, 99, 99, 96, 99, 97, 99, 100, 100, 101, 100, 100, 101, 102, 102, 102, 101, 102, 101, 99, 100, 101, 101, 100, 98, 97, 98, 100, 98, 100, 98, 97, 97, 100, 100, 99, 100, 100, 100, 101, 101, 102, 103, 102, 102, 111, 155, 194, 166, 197, 161, 118, 100, 97, 97, 100, 100, 99, 97, 97, 96, 100, 100, 99, 99, 100, 101, 101, 101, 102, 103, 102, 120, 191, 121, 95, 99, 91, 113, 175, 127, 101, 99, 98, 99, 97, 99, 98, 97, 100, 100, 100, 99, 101, 102, 101, 101, 101, 102, 110, 186, 104, 100, 102, 102, 101, 101, 113, 185, 107, 100, 99, 100, 97, 97, 97, 96, 99, 101, 98, 98, 100, 101, 101, 101, 102, 100, 152, 125, 100, 100, 100, 99, 101, 102, 151, 209, 148, 105, 99, 99, 98, 98, 97, 97, 98, 97, 98, 99, 98, 99, 100, 101, 100, 106, 180, 102, 99, 99, 99, 100, 101, 100, 99, 116, 182, 170, 107, 99, 98, 97, 96, 97, 97, 99, 101, 97, 98, 99, 100, 101, 101, 135, 130, 100, 100, 98, 99, 99, 101, 101, 102, 99, 113, 110, 171, 108, 99, 97, 96, 97, 98, 99, 100, 97, 98, 99, 100, 101, 100, 165, 108, 103, 99, 99, 100, 100, 101, 102, 102, 103, 104, 102, 122, 141, 99, 98, 97, 98, 98, 99, 99, 98, 99, 100, 100, 102, 103, 167, 101, 100, 100, 98, 98, 100, 99, 99, 101, 101, 102, 103, 100, 163, 105, 100, 97, 99, 99, 99, 99, 98, 98, 99, 100, 102, 117, 148, 101, 99, 100, 98, 99, 101, 99, 100, 100, 102, 101, 103, 102, 143, 118, 100, 99, 98, 98, 100, 100, 97, 99, 100, 101, 102, 128, 136, 101, 98, 98, 99, 100, 98, 99, 99, 102, 102, 102, 104, 104, 127, 129, 100, 99, 99, 98, 99, 101, 96, 100, 101, 102, 102, 130, 136, 100, 99, 100, 98, 99, 99, 99, 100, 102, 102, 103, 103, 103, 126, 134, 100, 99, 98, 98, 99, 100, 98, 100, 101, 102, 103, 130, 135, 100, 100, 99, 99, 99, 99, 100, 101, 101, 102, 103, 103, 103, 143, 123, 100, 97, 98, 98, 99, 100, 100, 100, 101, 101, 103, 125, 141, 99, 98, 98, 98, 99, 100, 101, 101, 101, 102, 103, 103, 101, 168, 104, 99, 98, 98, 99, 99, 101, 100, 101, 99, 102, 103, 114, 158, 100, 97, 100, 99, 100, 100, 101, 101, 100, 102, 102, 103, 111, 164, 101, 98, 100, 99, 99, 101, 103, 100, 99, 100, 103, 103, 104, 177, 103, 100, 99, 99, 99, 101, 101, 101, 100, 102, 103, 104, 141, 129, 98, 98, 99, 99, 101, 101, 101, 99, 100, 99, 102, 104, 104, 161, 120, 101, 97, 100, 98, 101, 102, 99, 101, 103, 104, 108, 183, 101, 98, 98, 97, 99, 102, 101, 101, 100, 99, 100, 102, 105, 103, 118, 167, 102, 100, 99, 98, 100, 101, 101, 102, 102, 103, 167, 123, 98, 99, 98, 98, 99, 99, 101, 101, 100, 100, 100, 103, 103, 104, 99, 147, 148, 102, 99, 100, 100, 103, 101, 101, 100, 149, 143, 98, 98, 98, 99, 99, 99, 100, 101, 103, 101, 102, 102, 103, 102, 103, 103, 100, 156, 150, 102, 101, 101, 101, 97, 109, 170, 147, 99, 98, 99, 99, 99, 100, 101, 102, 101, 103, 100, 100, 101, 101, 102, 100, 102, 102, 101, 127, 189, 157, 137, 132, 166, 182, 116, 96, 98, 99, 100, 100, 100, 101, 101, 102, 103, 104, 100, 99, 101, 100, 101, 100, 101, 101, 102, 101, 98, 115, 129, 127, 109, 98, 99, 99, 101, 101, 101, 101, 100, 102, 102, 102, 103, 104, 99, 98, 100, 100, 99, 100, 101, 100, 102, 102, 101, 103, 102, 102, 102, 101, 100, 99, 101, 102, 101, 101, 103, 103, 102, 103, 103, 104, 100, 99, 100, 101, 100, 101, 101, 101, 101, 101, 101, 101, 101, 101, 102, 100, 101, 103, 102, 102, 103, 104, 102, 102, 103, 104, 103, 103, 101, 100, 102, 102, 101, 100, 102, 102, 102, 103, 102, 100, 102, 101, 102, 101, 103, 103, 103, 103, 104, 103, 103, 103, 104, 105, 104, 103, 100, 101, 101, 102, 103, 102, 102, 103, 102, 101, 102, 102, 102, 102, 101, 102, 103, 103, 103, 104, 103, 105, 104, 104, 104, 105, 105, 105, 100, 101, 102, 103, 102, 102, 103, 103, 102, 101, 103, 102, 103, 102, 102, 103, 102, 104, 104, 104, 105, 106, 105, 104, 104, 105, 105, 106]\n",
    "zero = np.array(zero)/256\n",
    "pr = clf.predict([zero])\n",
    "print(pr)"
   ]
  },
  {
   "cell_type": "code",
   "execution_count": null,
   "id": "b121441b",
   "metadata": {},
   "outputs": [],
   "source": []
  },
  {
   "cell_type": "code",
   "execution_count": null,
   "id": "b2f1132c",
   "metadata": {},
   "outputs": [],
   "source": []
  }
 ],
 "metadata": {
  "kernelspec": {
   "display_name": "Python 3 (ipykernel)",
   "language": "python",
   "name": "python3"
  },
  "language_info": {
   "codemirror_mode": {
    "name": "ipython",
    "version": 3
   },
   "file_extension": ".py",
   "mimetype": "text/x-python",
   "name": "python",
   "nbconvert_exporter": "python",
   "pygments_lexer": "ipython3",
   "version": "3.11.3"
  }
 },
 "nbformat": 4,
 "nbformat_minor": 5
}
