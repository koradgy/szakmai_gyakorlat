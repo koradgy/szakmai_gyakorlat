{
 "cells": [
  {
   "cell_type": "markdown",
   "id": "891e4fea",
   "metadata": {},
   "source": [
    "# Scikit-Learn course alapján\n",
    "#### https://youtu.be/pqNCD_5r0IU?t=9151"
   ]
  },
  {
   "cell_type": "code",
   "execution_count": null,
   "id": "42f9b4a4",
   "metadata": {},
   "outputs": [],
   "source": [
    "import mnist\n",
    "from sklearn.neural_network import MLPClassifier\n",
    "from sklearn.metrics import confusion_matrix\n",
    "from sklearn.metrics import accuracy_score\n",
    "from sklearn.model_selection import train_test_split\n",
    "from sklearn.preprocessing import binarize\n",
    "from skimage.filters import threshold_local\n",
    "from PIL import Image\n",
    "import matplotlib.pyplot as plt\n",
    "import matplotlib.image as mpimg\n",
    "import numpy as np\n",
    "import os"
   ]
  },
  {
   "cell_type": "code",
   "execution_count": null,
   "id": "aef4c968",
   "metadata": {},
   "outputs": [],
   "source": [
    "xtrain = mnist.train_images()\n",
    "ytrain = mnist.train_labels()\n",
    "\n",
    "xtest = mnist.test_images()\n",
    "ytest = mnist.test_labels()"
   ]
  },
  {
   "cell_type": "code",
   "execution_count": null,
   "id": "ac45dc1a",
   "metadata": {},
   "outputs": [],
   "source": [
    "xtrain = xtrain.reshape((-1, 28*28))\n",
    "xtest = xtest.reshape((-1,28*28))"
   ]
  },
  {
   "cell_type": "code",
   "execution_count": null,
   "id": "b0b6a4e2",
   "metadata": {},
   "outputs": [],
   "source": [
    "unique_classes, counts = np.unique(ytrain, return_counts=True)\n",
    "\n",
    "# Kiíratás az egyes osztályokhoz tartozó minták számáról\n",
    "for i, label in enumerate(unique_classes):\n",
    "    print(f\"Osztály {label}: {counts[i]} darab minta\")\n",
    "\n",
    "samples_to_display = []\n",
    "for class_label in unique_classes:\n",
    "    indices = np.where(ytrain == class_label)[0]\n",
    "    sample_indices = np.random.choice(indices, size=1, replace=False)  # Válasszunk 5 mintát véletlenszerűen\n",
    "    samples_to_display.extend(sample_indices)\n",
    "\n",
    "fig, axes = plt.subplots(1, len(samples_to_display), figsize=(15, 2))\n",
    "for i, idx in enumerate(samples_to_display):\n",
    "    axes[i].imshow(xtrain[idx].reshape(28, 28), cmap='gray')\n",
    "    axes[i].set_title(f\"Class: {ytrain[idx]}\")\n",
    "    axes[i].axis('off')\n",
    "\n",
    "plt.tight_layout()\n",
    "plt.show()"
   ]
  },
  {
   "cell_type": "markdown",
   "id": "c08a2664",
   "metadata": {},
   "source": [
    "A meglenített minták háttere fekete, emiatt a későbbíekben látható lesz, hogy a színek invertálásával pontosabb eredményt kapunk."
   ]
  },
  {
   "cell_type": "code",
   "execution_count": null,
   "id": "e610452b",
   "metadata": {},
   "outputs": [],
   "source": [
    "xtrain = np.array(xtrain/256)\n",
    "xtest = np.array(xtest/256)"
   ]
  },
  {
   "cell_type": "code",
   "execution_count": null,
   "id": "0ca3473c",
   "metadata": {},
   "outputs": [],
   "source": [
    "# Validációs adathalmaz létrehozása\n",
    "xtrain, xval, ytrain, yval = train_test_split(xtrain, ytrain, test_size=0.5, random_state=42, stratify=ytrain)\n",
    "\n",
    "# MLP osztály inicializálása\n",
    "clf = MLPClassifier(solver='adam', activation='relu', hidden_layer_sizes=(64, 64), max_iter=1)\n",
    "\n",
    "# Pontosságok tárolása\n",
    "train_accuracy_list = []\n",
    "val_accuracy_list = []\n",
    "\n",
    "# Lépésenkénti tanítás és pontosságok nyomon követése\n",
    "for i in range(100):\n",
    "    #print(f'{i + 1} / 100')\n",
    "    clf.partial_fit(xtrain, ytrain, classes=np.unique(ytrain))\n",
    "    \n",
    "    # Pontosság mérése a tanító adathalmazon\n",
    "    ytrain_pred = clf.predict(xtrain)\n",
    "    train_accuracy = accuracy_score(ytrain, ytrain_pred)\n",
    "    train_accuracy_list.append(train_accuracy)\n",
    "    \n",
    "    # Pontosság mérése a validációs adathalmazon\n",
    "    yval_pred = clf.predict(xval)\n",
    "    val_accuracy = accuracy_score(yval, yval_pred)\n",
    "    val_accuracy_list.append(val_accuracy)\n",
    "\n",
    "# Pontosságok megjelenítése\n",
    "plt.plot(train_accuracy_list, label='Tanító adathalmaz')\n",
    "plt.plot(val_accuracy_list, label='Validációs adathalmaz')\n",
    "plt.xlabel('Iterációk')\n",
    "plt.ylabel('Pontosság')\n",
    "plt.legend()\n",
    "plt.show()\n"
   ]
  },
  {
   "cell_type": "code",
   "execution_count": null,
   "id": "936f12a7",
   "metadata": {},
   "outputs": [],
   "source": [
    "prediction = clf.predict(xtest)"
   ]
  },
  {
   "cell_type": "code",
   "execution_count": null,
   "id": "d75f5daf",
   "metadata": {},
   "outputs": [],
   "source": [
    "acc = confusion_matrix(ytest, prediction)"
   ]
  },
  {
   "cell_type": "code",
   "execution_count": null,
   "id": "c70c4a4d",
   "metadata": {},
   "outputs": [],
   "source": [
    "def accuracy(cm):\n",
    "    diag = cm.trace()\n",
    "    elements = cm.sum()\n",
    "    return diag/elements\n",
    "\n",
    "print(accuracy(acc))"
   ]
  },
  {
   "cell_type": "code",
   "execution_count": null,
   "id": "78cfdced",
   "metadata": {},
   "outputs": [],
   "source": [
    "def image_to_bin(img):\n",
    "    data = list(img.getdata())\n",
    "    for i in range(len(data)):\n",
    "        data[i] = 255 - data[i]\n",
    "    data = np.array(data)/256.0\n",
    "    return data"
   ]
  },
  {
   "cell_type": "markdown",
   "id": "7833ac73",
   "metadata": {},
   "source": [
    "# Gimpben rajzolt számjegyek"
   ]
  },
  {
   "cell_type": "markdown",
   "id": "0b556825",
   "metadata": {},
   "source": [
    "### Itt sokkal pontosabbak az eredmények, valószínűleg ezek jobban hasonlítanak a betanított számjegyekhez."
   ]
  },
  {
   "cell_type": "code",
   "execution_count": null,
   "id": "95996606",
   "metadata": {
    "scrolled": true
   },
   "outputs": [],
   "source": [
    "image_folder = \"drawn_digits\"\n",
    "images = []\n",
    "predictions = []\n",
    "\n",
    "# Képek beolvasása és osztályozás végrehajtása\n",
    "for filename in os.listdir(image_folder):\n",
    "    if filename.endswith(\".png\"):\n",
    "        file_path = os.path.join(image_folder, filename)\n",
    "        image = Image.open(file_path)\n",
    "        binimg = image_to_bin(image)\n",
    "        p = clf.predict([binimg])\n",
    "        images.append(image)\n",
    "        predictions.append(p)\n",
    "\n",
    "fig, axes = plt.subplots(2, 5, figsize=(10, 4))\n",
    "\n",
    "for i, ax in enumerate(axes.flat):\n",
    "    ax.imshow(images[i], cmap='gray')\n",
    "    ax.set_title(\"Prediction: {}\".format(predictions[i]))\n",
    "\n",
    "plt.tight_layout()\n",
    "plt.show()"
   ]
  },
  {
   "cell_type": "markdown",
   "id": "6f798f77",
   "metadata": {},
   "source": [
    "# Kézzel írott számjegyek"
   ]
  },
  {
   "cell_type": "code",
   "execution_count": null,
   "id": "53546a0c",
   "metadata": {},
   "outputs": [],
   "source": [
    "image_folder = \"handwritten_digits\"\n",
    "images = []\n",
    "predictions = []\n",
    "\n",
    "# Képek beolvasása és osztályozás végrehajtása\n",
    "for filename in os.listdir(image_folder):\n",
    "    if filename.endswith(\".png\"):\n",
    "        file_path = os.path.join(image_folder, filename)\n",
    "        image = Image.open(file_path)\n",
    "        binimg = image_to_bin(image)\n",
    "        p = clf.predict([binimg])\n",
    "        images.append(image)\n",
    "        predictions.append(p)\n",
    "\n",
    "fig, axes = plt.subplots(2, 5, figsize=(10, 4))\n",
    "\n",
    "for i, ax in enumerate(axes.flat):\n",
    "    ax.imshow(images[i], cmap='gray')\n",
    "    ax.set_title(\"Prediction: {}\".format(predictions[i]))\n",
    "\n",
    "plt.tight_layout()\n",
    "plt.show()"
   ]
  },
  {
   "cell_type": "markdown",
   "id": "7eaf4090",
   "metadata": {},
   "source": [
    "# Lokális küszöböléssel\n",
    "### kézi implementáció"
   ]
  },
  {
   "cell_type": "code",
   "execution_count": null,
   "id": "7e184377",
   "metadata": {
    "scrolled": true
   },
   "outputs": [],
   "source": [
    "import cv2\n",
    "\n",
    "def local_threshold_mean(image, kernel_size):\n",
    "    # Átlagszűrő alkalmazása a küszöbérték meghatározásához\n",
    "    blurred_image = cv2.blur(image, (kernel_size, kernel_size))\n",
    "    \n",
    "    # Konvolúció az eredeti képpel\n",
    "    convolved_image = cv2.filter2D(image, -1, np.ones((kernel_size, kernel_size), dtype=np.float32) / (kernel_size * kernel_size))\n",
    "    \n",
    "    # Lokális küszöbölés az átlag alapján\n",
    "    thresholded_image = np.where(image > convolved_image, 255, 0).astype(np.uint8)\n",
    "    \n",
    "    return thresholded_image\n",
    "\n",
    "image_folder = \"handwritten_digits\"\n",
    "images = []\n",
    "predictions = []\n",
    "\n",
    "# Képek beolvasása és osztályozás végrehajtása\n",
    "for filename in os.listdir(image_folder):\n",
    "    if filename.endswith(\".png\"):\n",
    "        file_path = os.path.join(image_folder, filename)\n",
    "        image = cv2.imread(file_path, cv2.IMREAD_GRAYSCALE)  # Képek szürkeárnyalatosan beolvasása\n",
    "        binimg = local_threshold_mean(image, kernel_size=30)\n",
    "        p = clf.predict([binimg.flatten()])\n",
    "        images.append(binimg)\n",
    "        predictions.append(p)\n",
    "\n",
    "fig, axes = plt.subplots(2, 5, figsize=(10, 4))\n",
    "\n",
    "for i, ax in enumerate(axes.flat):\n",
    "    ax.imshow(images[i], cmap='gray')\n",
    "    ax.set_title(\"Prediction: {}\".format(predictions[i]))\n",
    "\n",
    "plt.tight_layout()\n",
    "plt.show()\n"
   ]
  },
  {
   "cell_type": "markdown",
   "id": "0e135298",
   "metadata": {},
   "source": [
    "## Kézi implementáció színek invertálásával"
   ]
  },
  {
   "cell_type": "code",
   "execution_count": null,
   "id": "21b2bb87",
   "metadata": {},
   "outputs": [],
   "source": [
    "def local_threshold_mean(image, kernel_size):\n",
    "    # Átlagszűrő alkalmazása a küszöbérték meghatározásához\n",
    "    blurred_image = cv2.blur(image, (kernel_size, kernel_size))\n",
    "    \n",
    "    # Konvolúció az eredeti képpel\n",
    "    convolved_image = cv2.filter2D(image, -1, np.ones((kernel_size, kernel_size), dtype=np.float32) / (kernel_size * kernel_size))\n",
    "    \n",
    "    # Lokális küszöbölés az átlag alapján\n",
    "    thresholded_image = np.where(image > convolved_image, 255, 0).astype(np.uint8)\n",
    "    \n",
    "    return thresholded_image\n",
    "\n",
    "def invert_colors(img):\n",
    "    return cv2.bitwise_not(img)\n",
    "\n",
    "image_folder = \"handwritten_digits\"\n",
    "images = []\n",
    "predictions = []\n",
    "\n",
    "# Képek beolvasása és osztályozás végrehajtása\n",
    "for filename in os.listdir(image_folder):\n",
    "    if filename.endswith(\".png\"):\n",
    "        file_path = os.path.join(image_folder, filename)\n",
    "        image = cv2.imread(file_path, cv2.IMREAD_GRAYSCALE)  # Képek szürkeárnyalatosan beolvasása\n",
    "        binimg = local_threshold_mean(image, kernel_size=100)\n",
    "        inverted_img = invert_colors(binimg)\n",
    "        p = clf.predict([inverted_img.flatten()])\n",
    "        images.append(inverted_img)\n",
    "        predictions.append(p)\n",
    "\n",
    "fig, axes = plt.subplots(2, 5, figsize=(10, 4))\n",
    "\n",
    "for i, ax in enumerate(axes.flat):\n",
    "    ax.imshow(images[i], cmap='gray')\n",
    "    ax.set_title(\"Prediction: {}\".format(predictions[i]))\n",
    "\n",
    "plt.tight_layout()\n",
    "plt.show()"
   ]
  },
  {
   "cell_type": "markdown",
   "id": "38864e20",
   "metadata": {},
   "source": [
    "# Lokális küszöbölés \n",
    "### scikit-image"
   ]
  },
  {
   "cell_type": "code",
   "execution_count": null,
   "id": "84269aaf",
   "metadata": {
    "scrolled": true
   },
   "outputs": [],
   "source": [
    "from skimage.filters import threshold_local\n",
    "\n",
    "def local_thresholding(img):\n",
    "    # Lokális küszöbölés alkalmazása\n",
    "    block_size = 35  # A blokk mérete, amelyben a küszöbölés alkalmazódik\n",
    "    local_threshold = threshold_local(img, block_size, offset=5, method='gaussian')\n",
    "    binary_image = (img > local_threshold).astype(np.uint8) * 255\n",
    "\n",
    "    return binary_image\n",
    "\n",
    "image_folder = \"handwritten_digits\"\n",
    "images = []\n",
    "predictions = []\n",
    "\n",
    "# Képek beolvasása és osztályozás végrehajtása\n",
    "for filename in os.listdir(image_folder):\n",
    "    if filename.endswith(\".png\"):\n",
    "        file_path = os.path.join(image_folder, filename)\n",
    "        image = cv2.imread(file_path, cv2.IMREAD_GRAYSCALE)  # Képek szürkeárnyalatosan beolvasása\n",
    "        binimg = local_thresholding(image)\n",
    "        p = clf.predict([binimg.flatten()])\n",
    "        images.append(binimg)\n",
    "        predictions.append(p)\n",
    "\n",
    "fig, axes = plt.subplots(2, 5, figsize=(10, 4))\n",
    "\n",
    "for i, ax in enumerate(axes.flat):\n",
    "    ax.imshow(images[i], cmap='gray')\n",
    "    ax.set_title(\"Prediction: {}\".format(predictions[i]))\n",
    "\n",
    "plt.tight_layout()\n",
    "plt.show()\n"
   ]
  },
  {
   "cell_type": "markdown",
   "id": "d5e590c4",
   "metadata": {},
   "source": [
    "## színek invertálásával"
   ]
  },
  {
   "cell_type": "code",
   "execution_count": null,
   "id": "fa3566d6",
   "metadata": {},
   "outputs": [],
   "source": [
    "def local_thresholding(img):\n",
    "    # Lokális küszöbölés alkalmazása\n",
    "    block_size = 35  # A blokk mérete, amelyben a küszöbölés alkalmazódik\n",
    "    local_threshold = threshold_local(img, block_size, offset=30, method='gaussian')\n",
    "    binary_image = (img > local_threshold).astype(np.uint8) * 255\n",
    "\n",
    "    # Kép inverzének előállítása\n",
    "    inverted_image = cv2.bitwise_not(binary_image)\n",
    "\n",
    "    return inverted_image\n",
    "\n",
    "image_folder = \"handwritten_digits\"\n",
    "images = []\n",
    "predictions = []\n",
    "\n",
    "# Képek beolvasása és osztályozás végrehajtása\n",
    "for filename in os.listdir(image_folder):\n",
    "    if filename.endswith(\".png\"):\n",
    "        file_path = os.path.join(image_folder, filename)\n",
    "        image = cv2.imread(file_path, cv2.IMREAD_GRAYSCALE)  # Képek szürkeárnyalatosan beolvasása\n",
    "        binimg = local_thresholding(image)\n",
    "        p = clf.predict([binimg.flatten()])\n",
    "        images.append(binimg)\n",
    "        predictions.append(p)\n",
    "\n",
    "fig, axes = plt.subplots(2, 5, figsize=(10, 4))\n",
    "\n",
    "for i, ax in enumerate(axes.flat):\n",
    "    ax.imshow(images[i], cmap='gray')\n",
    "    ax.set_title(\"Prediction: {}\".format(predictions[i]))\n",
    "\n",
    "plt.tight_layout()\n",
    "plt.show()\n"
   ]
  },
  {
   "cell_type": "markdown",
   "id": "e2ea65dd",
   "metadata": {},
   "source": [
    "# Mintaszám csökkentése"
   ]
  },
  {
   "cell_type": "code",
   "execution_count": null,
   "id": "13bf035d",
   "metadata": {},
   "outputs": [],
   "source": [
    "from keras.datasets import mnist\n",
    "\n",
    "(x_train, y_train), (x_test, y_test) = mnist.load_data()\n",
    "\n",
    "# Az összes minta száma egy osztályban\n",
    "max_samples_per_class = 3000\n",
    "\n",
    "# Csak 2000 minta kiválasztása minden osztályból\n",
    "selected_indices = []\n",
    "for class_label in np.unique(y_train):\n",
    "    indices = np.where(y_train == class_label)[0]\n",
    "    selected_indices.extend(indices[:max_samples_per_class])\n",
    "\n",
    "# Az adatok és címkék kiválasztása a kiválasztott indexek alapján\n",
    "x_train = x_train[selected_indices]\n",
    "y_train = y_train[selected_indices]\n",
    "\n",
    "# Az adatok átalakítása megfelelő formára\n",
    "x_train = x_train.reshape((-1, 28*28))\n",
    "\n",
    "# Tanító és validációs adathalmaz létrehozása\n",
    "x_train, x_val, y_train, y_val = train_test_split(x_train, y_train, test_size=0.2, random_state=42, stratify=y_train)\n",
    "#stratify=y_train: azonos mintaszám osztályonként\n",
    "\n",
    "# Az osztályok címkéinek megszámlálása az adathalmazban\n",
    "unique_classes, counts = np.unique(y_train, return_counts=True)\n",
    "\n",
    "# Kiíratás az egyes osztályokhoz tartozó minták számáról\n",
    "for i, label in enumerate(unique_classes):\n",
    "    print(f\"Osztály {label}: {counts[i]} darab minta\")\n",
    "    "
   ]
  },
  {
   "cell_type": "code",
   "execution_count": null,
   "id": "4c4e569a",
   "metadata": {},
   "outputs": [],
   "source": [
    "# MLP osztály inicializálása\n",
    "clf_2 = MLPClassifier(solver='adam', activation='relu', hidden_layer_sizes=(64, 64), max_iter=1)\n",
    "\n",
    "# Pontosságok tárolása\n",
    "train_accuracy_list = []\n",
    "val_accuracy_list = []\n",
    "\n",
    "# Lépésenkénti tanítás és pontosságok nyomon követése\n",
    "for i in range(100):\n",
    "    #print(f'{i + 1} / 100')\n",
    "    clf_2.partial_fit(x_train, y_train, classes=np.unique(y_train))\n",
    "    ytrain_pred = clf_2.predict(x_train)\n",
    "    yval_pred = clf_2.predict(x_val)\n",
    "    \n",
    "    train_accuracy = accuracy_score(y_train, ytrain_pred)\n",
    "    val_accuracy = accuracy_score(y_val, yval_pred)\n",
    "    \n",
    "    train_accuracy_list.append(train_accuracy)\n",
    "    val_accuracy_list.append(val_accuracy)\n",
    "\n",
    "# Pontosságok megjelenítése\n",
    "plt.plot(train_accuracy_list, label='Tanító adathalmaz')\n",
    "plt.plot(val_accuracy_list, label='Validációs adathalmaz')\n",
    "plt.xlabel('Iterációk')\n",
    "plt.ylabel('Pontosság')\n",
    "plt.legend()\n",
    "plt.show()"
   ]
  },
  {
   "cell_type": "markdown",
   "id": "426ee958",
   "metadata": {},
   "source": [
    "# Gimpben rajzolt számjegyek"
   ]
  },
  {
   "cell_type": "code",
   "execution_count": null,
   "id": "a16e634e",
   "metadata": {},
   "outputs": [],
   "source": [
    "image_folder = \"drawn_digits\"\n",
    "images = []\n",
    "predictions = []\n",
    "\n",
    "# Képek beolvasása és osztályozás végrehajtása\n",
    "for filename in os.listdir(image_folder):\n",
    "    if filename.endswith(\".png\"):\n",
    "        file_path = os.path.join(image_folder, filename)\n",
    "        image = Image.open(file_path)\n",
    "        binimg = image_to_bin(image)\n",
    "        p = clf_2.predict([binimg])\n",
    "        images.append(image)\n",
    "        predictions.append(p)\n",
    "\n",
    "fig, axes = plt.subplots(2, 5, figsize=(10, 4))\n",
    "\n",
    "for i, ax in enumerate(axes.flat):\n",
    "    ax.imshow(images[i], cmap='gray')\n",
    "    ax.set_title(\"Prediction: {}\".format(predictions[i]))\n",
    "\n",
    "plt.tight_layout()\n",
    "plt.show()"
   ]
  },
  {
   "cell_type": "markdown",
   "id": "54e0cbba",
   "metadata": {},
   "source": [
    "# Kézzel írott számjegyek "
   ]
  },
  {
   "cell_type": "code",
   "execution_count": null,
   "id": "07f272de",
   "metadata": {
    "scrolled": false
   },
   "outputs": [],
   "source": [
    "image_folder = \"handwritten_digits\"\n",
    "images = []\n",
    "predictions = []\n",
    "\n",
    "# Képek beolvasása és osztályozás végrehajtása\n",
    "for filename in os.listdir(image_folder):\n",
    "    if filename.endswith(\".png\"):\n",
    "        file_path = os.path.join(image_folder, filename)\n",
    "        image = Image.open(file_path)\n",
    "        binimg = image_to_bin(image)\n",
    "        p = clf_2.predict([binimg])\n",
    "        images.append(image)\n",
    "        predictions.append(p)\n",
    "\n",
    "fig, axes = plt.subplots(2, 5, figsize=(10, 4))\n",
    "\n",
    "for i, ax in enumerate(axes.flat):\n",
    "    ax.imshow(images[i], cmap='gray')\n",
    "    ax.set_title(\"Prediction: {}\".format(predictions[i]))\n",
    "\n",
    "plt.tight_layout()\n",
    "plt.show()"
   ]
  },
  {
   "cell_type": "markdown",
   "id": "107b140c",
   "metadata": {},
   "source": [
    "# Lokális küszöbölés\n",
    "### Kézi implementáció"
   ]
  },
  {
   "cell_type": "code",
   "execution_count": null,
   "id": "6f1744f3",
   "metadata": {},
   "outputs": [],
   "source": [
    "def local_threshold_mean(image, kernel_size):\n",
    "    # Átlagszűrő alkalmazása a küszöbérték meghatározásához\n",
    "    blurred_image = cv2.blur(image, (kernel_size, kernel_size))\n",
    "    \n",
    "    # Konvolúció az eredeti képpel\n",
    "    convolved_image = cv2.filter2D(image, -1, np.ones((kernel_size, kernel_size), dtype=np.float32) / (kernel_size * kernel_size))\n",
    "    \n",
    "    # Lokális küszöbölés az átlag alapján\n",
    "    thresholded_image = np.where(image > convolved_image, 255, 0).astype(np.uint8)\n",
    "    \n",
    "    return thresholded_image\n",
    "\n",
    "image_folder = \"handwritten_digits\"\n",
    "images = []\n",
    "predictions = []\n",
    "\n",
    "# Képek beolvasása és osztályozás végrehajtása\n",
    "for filename in os.listdir(image_folder):\n",
    "    if filename.endswith(\".png\"):\n",
    "        file_path = os.path.join(image_folder, filename)\n",
    "        image = cv2.imread(file_path, cv2.IMREAD_GRAYSCALE)  # Képek szürkeárnyalatosan beolvasása\n",
    "        binimg = local_threshold_mean(image, kernel_size=30)\n",
    "        p = clf_2.predict([binimg.flatten()])\n",
    "        images.append(binimg)\n",
    "        predictions.append(p)\n",
    "\n",
    "fig, axes = plt.subplots(2, 5, figsize=(10, 4))\n",
    "\n",
    "for i, ax in enumerate(axes.flat):\n",
    "    ax.imshow(images[i], cmap='gray')\n",
    "    ax.set_title(\"Prediction: {}\".format(predictions[i]))\n",
    "\n",
    "plt.tight_layout()\n",
    "plt.show()\n"
   ]
  },
  {
   "cell_type": "markdown",
   "id": "0049bcad",
   "metadata": {},
   "source": [
    "## Színek invertálásával"
   ]
  },
  {
   "cell_type": "code",
   "execution_count": null,
   "id": "14116f6a",
   "metadata": {},
   "outputs": [],
   "source": [
    "def local_threshold_mean(image, kernel_size):\n",
    "    # Átlagszűrő alkalmazása a küszöbérték meghatározásához\n",
    "    blurred_image = cv2.blur(image, (kernel_size, kernel_size))\n",
    "    \n",
    "    # Konvolúció az eredeti képpel\n",
    "    convolved_image = cv2.filter2D(image, -1, np.ones((kernel_size, kernel_size), dtype=np.float32) / (kernel_size * kernel_size))\n",
    "    \n",
    "    # Lokális küszöbölés az átlag alapján\n",
    "    thresholded_image = np.where(image > convolved_image, 255, 0).astype(np.uint8)\n",
    "    \n",
    "    return thresholded_image\n",
    "\n",
    "def invert_colors(img):\n",
    "    return cv2.bitwise_not(img)\n",
    "\n",
    "image_folder = \"handwritten_digits\"\n",
    "images = []\n",
    "predictions = []\n",
    "\n",
    "# Képek beolvasása és osztályozás végrehajtása\n",
    "for filename in os.listdir(image_folder):\n",
    "    if filename.endswith(\".png\"):\n",
    "        file_path = os.path.join(image_folder, filename)\n",
    "        image = cv2.imread(file_path, cv2.IMREAD_GRAYSCALE)  # Képek szürkeárnyalatosan beolvasása\n",
    "        binimg = local_threshold_mean(image, kernel_size=100)\n",
    "        inverted_img = invert_colors(binimg)\n",
    "        p = clf_2.predict([inverted_img.flatten()])\n",
    "        images.append(inverted_img)\n",
    "        predictions.append(p)\n",
    "\n",
    "fig, axes = plt.subplots(2, 5, figsize=(10, 4))\n",
    "\n",
    "for i, ax in enumerate(axes.flat):\n",
    "    ax.imshow(images[i], cmap='gray')\n",
    "    ax.set_title(\"Prediction: {}\".format(predictions[i]))\n",
    "\n",
    "plt.tight_layout()\n",
    "plt.show()"
   ]
  },
  {
   "cell_type": "markdown",
   "id": "f3af0a69",
   "metadata": {},
   "source": [
    "# Lokális küszöbölés\n",
    "### scikit-image"
   ]
  },
  {
   "cell_type": "code",
   "execution_count": null,
   "id": "d6645a0f",
   "metadata": {},
   "outputs": [],
   "source": [
    "def local_thresholding(img):\n",
    "    # Lokális küszöbölés alkalmazása\n",
    "    block_size = 35  # A blokk mérete, amelyben a küszöbölés alkalmazódik\n",
    "    local_threshold = threshold_local(img, block_size, offset=5, method='gaussian')\n",
    "    binary_image = (img > local_threshold).astype(np.uint8) * 255\n",
    "\n",
    "    return binary_image\n",
    "\n",
    "image_folder = \"handwritten_digits\"\n",
    "images = []\n",
    "predictions = []\n",
    "\n",
    "# Képek beolvasása és osztályozás végrehajtása\n",
    "for filename in os.listdir(image_folder):\n",
    "    if filename.endswith(\".png\"):\n",
    "        file_path = os.path.join(image_folder, filename)\n",
    "        image = cv2.imread(file_path, cv2.IMREAD_GRAYSCALE)  # Képek szürkeárnyalatosan beolvasása\n",
    "        binimg = local_thresholding(image)\n",
    "        p = clf_2.predict([binimg.flatten()])\n",
    "        images.append(binimg)\n",
    "        predictions.append(p)\n",
    "\n",
    "fig, axes = plt.subplots(2, 5, figsize=(10, 4))\n",
    "\n",
    "for i, ax in enumerate(axes.flat):\n",
    "    ax.imshow(images[i], cmap='gray')\n",
    "    ax.set_title(\"Prediction: {}\".format(predictions[i]))\n",
    "\n",
    "plt.tight_layout()\n",
    "plt.show()\n"
   ]
  },
  {
   "cell_type": "markdown",
   "id": "88ae7ff9",
   "metadata": {},
   "source": [
    "## színek invertálása"
   ]
  },
  {
   "cell_type": "code",
   "execution_count": null,
   "id": "2c174309",
   "metadata": {},
   "outputs": [],
   "source": [
    "def local_thresholding(img):\n",
    "    # Lokális küszöbölés alkalmazása\n",
    "    block_size = 35  # A blokk mérete, amelyben a küszöbölés alkalmazódik\n",
    "    local_threshold = threshold_local(img, block_size, offset=30, method='gaussian')\n",
    "    binary_image = (img > local_threshold).astype(np.uint8) * 255\n",
    "\n",
    "    # Kép inverzének előállítása\n",
    "    inverted_image = cv2.bitwise_not(binary_image)\n",
    "\n",
    "    return inverted_image\n",
    "\n",
    "image_folder = \"handwritten_digits\"\n",
    "images = []\n",
    "predictions = []\n",
    "\n",
    "# Képek beolvasása és osztályozás végrehajtása\n",
    "for filename in os.listdir(image_folder):\n",
    "    if filename.endswith(\".png\"):\n",
    "        file_path = os.path.join(image_folder, filename)\n",
    "        image = cv2.imread(file_path, cv2.IMREAD_GRAYSCALE)  # Képek szürkeárnyalatosan beolvasása\n",
    "        binimg = local_thresholding(image)\n",
    "        p = clf_2.predict([binimg.flatten()])\n",
    "        images.append(binimg)\n",
    "        predictions.append(p)\n",
    "\n",
    "fig, axes = plt.subplots(2, 5, figsize=(10, 4))\n",
    "\n",
    "for i, ax in enumerate(axes.flat):\n",
    "    ax.imshow(images[i], cmap='gray')\n",
    "    ax.set_title(\"Prediction: {}\".format(predictions[i]))\n",
    "\n",
    "plt.tight_layout()\n",
    "plt.show()\n"
   ]
  }
 ],
 "metadata": {
  "kernelspec": {
   "display_name": "Python 3 (ipykernel)",
   "language": "python",
   "name": "python3"
  },
  "language_info": {
   "codemirror_mode": {
    "name": "ipython",
    "version": 3
   },
   "file_extension": ".py",
   "mimetype": "text/x-python",
   "name": "python",
   "nbconvert_exporter": "python",
   "pygments_lexer": "ipython3",
   "version": "3.11.3"
  }
 },
 "nbformat": 4,
 "nbformat_minor": 5
}
