{
 "cells": [
  {
   "cell_type": "markdown",
   "id": "891e4fea",
   "metadata": {},
   "source": [
    "# Scikit-Learn course alapján\n",
    "#### https://youtu.be/pqNCD_5r0IU?t=9151"
   ]
  },
  {
   "cell_type": "code",
   "execution_count": null,
   "id": "42f9b4a4",
   "metadata": {},
   "outputs": [],
   "source": [
    "import mnist\n",
    "from sklearn.neural_network import MLPClassifier\n",
    "from sklearn.metrics import confusion_matrix\n",
    "from sklearn.metrics import accuracy_score\n",
    "from sklearn.model_selection import train_test_split\n",
    "from PIL import Image\n",
    "import matplotlib.pyplot as plt\n",
    "import matplotlib.image as mpimg\n",
    "import numpy as np\n",
    "import os"
   ]
  },
  {
   "cell_type": "code",
   "execution_count": null,
   "id": "aef4c968",
   "metadata": {},
   "outputs": [],
   "source": [
    "xtrain = mnist.train_images()\n",
    "ytrain = mnist.train_labels()\n",
    "\n",
    "xtest = mnist.test_images()\n",
    "ytest = mnist.test_labels()"
   ]
  },
  {
   "cell_type": "code",
   "execution_count": null,
   "id": "ac45dc1a",
   "metadata": {},
   "outputs": [],
   "source": [
    "xtrain = xtrain.reshape((-1, 28*28))\n",
    "xtest = xtest.reshape((-1,28*28))"
   ]
  },
  {
   "cell_type": "code",
   "execution_count": null,
   "id": "b0b6a4e2",
   "metadata": {},
   "outputs": [],
   "source": [
    "# Az osztályok címkéinek megszámlálása az adathalmazban\n",
    "unique_classes, counts = np.unique(ytrain, return_counts=True)\n",
    "\n",
    "# Kiíratás az egyes osztályokhoz tartozó minták számáról\n",
    "for i, label in enumerate(unique_classes):\n",
    "    print(f\"Osztály {label}: {counts[i]} darab minta\")"
   ]
  },
  {
   "cell_type": "code",
   "execution_count": null,
   "id": "e610452b",
   "metadata": {},
   "outputs": [],
   "source": [
    "xtrain = np.array(xtrain/256)\n",
    "xtest = np.array(xtest/256)"
   ]
  },
  {
   "cell_type": "code",
   "execution_count": null,
   "id": "0ca3473c",
   "metadata": {},
   "outputs": [],
   "source": [
    "# Validációs adathalmaz létrehozása\n",
    "xtrain, xval, ytrain, yval = train_test_split(xtrain, ytrain, test_size=0.2, random_state=42)\n",
    "\n",
    "# MLP osztály inicializálása\n",
    "clf = MLPClassifier(solver='adam', activation='relu', hidden_layer_sizes=(64, 64))\n",
    "\n",
    "# Pontosságok tárolása\n",
    "train_accuracy_list = []\n",
    "val_accuracy_list = []\n",
    "\n",
    "# Lépésenkénti tanítás és pontosságok nyomon követése\n",
    "for i in range(100): # 100 iterációval\n",
    "    clf.partial_fit(xtrain, ytrain, classes=np.unique(ytrain))\n",
    "    ytrain_pred = clf.predict(xtrain)\n",
    "    yval_pred = clf.predict(xval)\n",
    "    \n",
    "    train_accuracy = accuracy_score(ytrain, ytrain_pred)\n",
    "    val_accuracy = accuracy_score(yval, yval_pred)\n",
    "    \n",
    "    train_accuracy_list.append(train_accuracy)\n",
    "    val_accuracy_list.append(val_accuracy)\n",
    "\n",
    "# Pontosságok megjelenítése\n",
    "plt.plot(train_accuracy_list, label='Tanító adathalmaz')\n",
    "plt.plot(val_accuracy_list, label='Validációs adathalmaz')\n",
    "plt.xlabel('Iterációk')\n",
    "plt.ylabel('Pontosság')\n",
    "plt.legend()\n",
    "plt.show()\n"
   ]
  },
  {
   "cell_type": "code",
   "execution_count": null,
   "id": "936f12a7",
   "metadata": {},
   "outputs": [],
   "source": [
    "prediction = clf.predict(xtest)"
   ]
  },
  {
   "cell_type": "code",
   "execution_count": null,
   "id": "d75f5daf",
   "metadata": {},
   "outputs": [],
   "source": [
    "acc = confusion_matrix(ytest, prediction)"
   ]
  },
  {
   "cell_type": "code",
   "execution_count": null,
   "id": "c70c4a4d",
   "metadata": {},
   "outputs": [],
   "source": [
    "def accuracy(cm):\n",
    "    diag = cm.trace()\n",
    "    elements = cm.sum()\n",
    "    return diag/elements\n",
    "\n",
    "print(accuracy(acc))"
   ]
  },
  {
   "cell_type": "code",
   "execution_count": null,
   "id": "78cfdced",
   "metadata": {},
   "outputs": [],
   "source": [
    "def image_to_bin(img):\n",
    "    data = list(img.getdata())\n",
    "    for i in range(len(data)):\n",
    "        data[i] = 255 - data[i]\n",
    "    data = np.array(data)/256.0\n",
    "    return data"
   ]
  },
  {
   "cell_type": "markdown",
   "id": "7833ac73",
   "metadata": {},
   "source": [
    "# Gimpben rajzolt számjegyek"
   ]
  },
  {
   "cell_type": "markdown",
   "id": "0b556825",
   "metadata": {},
   "source": [
    "### Itt sokkal pontosabbak az eredmények, valószínűleg ezek jobban hasonlítanak a betanított számjegyekhez."
   ]
  },
  {
   "cell_type": "code",
   "execution_count": null,
   "id": "95996606",
   "metadata": {
    "scrolled": true
   },
   "outputs": [],
   "source": [
    "image_folder = \"drawn_digits\"\n",
    "images = []\n",
    "predictions = []\n",
    "\n",
    "# Képek beolvasása és osztályozás végrehajtása\n",
    "for filename in os.listdir(image_folder):\n",
    "    if filename.endswith(\".png\"):\n",
    "        file_path = os.path.join(image_folder, filename)\n",
    "        image = Image.open(file_path)\n",
    "        binimg = image_to_bin(image)\n",
    "        p = clf.predict([binimg])\n",
    "        images.append(image)\n",
    "        predictions.append(p)\n",
    "\n",
    "fig, axes = plt.subplots(2, 5, figsize=(10, 4))\n",
    "\n",
    "for i, ax in enumerate(axes.flat):\n",
    "    ax.imshow(images[i], cmap='gray')\n",
    "    ax.set_title(\"Prediction: {}\".format(predictions[i]))\n",
    "\n",
    "plt.tight_layout()\n",
    "plt.show()"
   ]
  },
  {
   "cell_type": "markdown",
   "id": "6f798f77",
   "metadata": {},
   "source": [
    "# Kézzel írott számjegyek"
   ]
  },
  {
   "cell_type": "code",
   "execution_count": null,
   "id": "2bc52f83",
   "metadata": {},
   "outputs": [],
   "source": [
    "image_folder = \"handwritten_digits\"\n",
    "images = []\n",
    "predictions = []\n",
    "\n",
    "# Képek beolvasása és osztályozás végrehajtása\n",
    "for filename in os.listdir(image_folder):\n",
    "    if filename.endswith(\".png\"):\n",
    "        file_path = os.path.join(image_folder, filename)\n",
    "        image = Image.open(file_path)\n",
    "        binimg = image_to_bin(image)\n",
    "        p = clf.predict([binimg])\n",
    "        images.append(image)\n",
    "        predictions.append(p)\n",
    "\n",
    "fig, axes = plt.subplots(2, 5, figsize=(10, 4))\n",
    "\n",
    "for i, ax in enumerate(axes.flat):\n",
    "    ax.imshow(images[i], cmap='gray')\n",
    "    ax.set_title(\"Prediction: {}\".format(predictions[i]))\n",
    "\n",
    "plt.tight_layout()\n",
    "plt.show()"
   ]
  },
  {
   "cell_type": "code",
   "execution_count": null,
   "id": "cae4c574",
   "metadata": {},
   "outputs": [],
   "source": []
  }
 ],
 "metadata": {
  "kernelspec": {
   "display_name": "Python 3 (ipykernel)",
   "language": "python",
   "name": "python3"
  },
  "language_info": {
   "codemirror_mode": {
    "name": "ipython",
    "version": 3
   },
   "file_extension": ".py",
   "mimetype": "text/x-python",
   "name": "python",
   "nbconvert_exporter": "python",
   "pygments_lexer": "ipython3",
   "version": "3.11.3"
  }
 },
 "nbformat": 4,
 "nbformat_minor": 5
}
