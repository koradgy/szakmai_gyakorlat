{
 "cells": [
  {
   "cell_type": "code",
   "execution_count": 1,
   "id": "7e8fe371",
   "metadata": {},
   "outputs": [],
   "source": [
    "import numpy as np\n",
    "import matplotlib.pyplot as plt\n",
    "from sklearn.datasets import fetch_openml\n",
    "from sklearn.neural_network import MLPClassifier\n",
    "from sklearn.metrics import accuracy_score\n",
    "from skimage.util import random_noise\n",
    "from skimage.filters import threshold_local\n",
    "import os\n",
    "from PIL import Image\n",
    "import cv2"
   ]
  },
  {
   "cell_type": "code",
   "execution_count": null,
   "id": "8a8fc5e3",
   "metadata": {},
   "outputs": [
    {
     "name": "stderr",
     "output_type": "stream",
     "text": [
      "/home/gyuri/.venv/venv/lib/python3.11/site-packages/sklearn/datasets/_openml.py:1002: FutureWarning: The default value of `parser` will change from `'liac-arff'` to `'auto'` in 1.4. You can set `parser='auto'` to silence this warning. Therefore, an `ImportError` will be raised from 1.4 if the dataset is dense and pandas is not installed. Note that the pandas parser may return different data types. See the Notes Section in fetch_openml's API doc for details.\n",
      "  warn(\n"
     ]
    }
   ],
   "source": [
    "mnist = fetch_openml('mnist_784')\n",
    "X, y = mnist['data'].to_numpy(), mnist['target'].to_numpy()\n",
    "\n",
    "num_samples, num_features = X.shape\n",
    "\n",
    "num_train = 60000\n",
    "X_train, X_test = X[:num_train], X[num_train:]\n",
    "y_train, y_test = y[:num_train], y[num_train:]"
   ]
  },
  {
   "cell_type": "markdown",
   "id": "906240d9",
   "metadata": {},
   "source": [
    "## Zaj hozzáadása az adathalmazhoz"
   ]
  },
  {
   "cell_type": "code",
   "execution_count": null,
   "id": "1d3a442a",
   "metadata": {},
   "outputs": [],
   "source": [
    "noise_level = 2\n",
    "\n",
    "X_train_noisy = np.array([random_noise(image, mode='gaussian', var=noise_level).flatten() for image in X_train])\n",
    "X_test_noisy = np.array([random_noise(image, mode='gaussian', var=noise_level).flatten() for image in X_test])\n",
    "\n",
    "model = MLPClassifier(solver='adam', activation='tanh', hidden_layer_sizes=(64,64),\n",
    "                    max_iter=1, learning_rate='adaptive')\n",
    "model.fit(X_train_noisy, y_train)\n",
    "\n",
    "y_pred = model.predict(X_test_noisy)\n",
    "\n",
    "accuracy = accuracy_score(y_test, y_pred)\n",
    "print(\"accuracy:\", accuracy)\n",
    "\n",
    "classes = np.unique(y_test)\n",
    "plt.figure(figsize=(12, 12))\n",
    "for i, cls in enumerate(classes):\n",
    "    plt.subplot(5, 5, i + 1)\n",
    "    idx = np.where(y_test == cls)[0][0]\n",
    "    plt.imshow(X_test_noisy[idx].reshape(28, 28), cmap='gray')\n",
    "    plt.title(f'Osztály: {cls}')\n",
    "    plt.axis('off')\n",
    "plt.show()\n"
   ]
  },
  {
   "cell_type": "code",
   "execution_count": null,
   "id": "0d57e7d2",
   "metadata": {},
   "outputs": [],
   "source": [
    "def image_to_bin(img):\n",
    "    data = list(img.getdata())\n",
    "    for i in range(len(data)):\n",
    "        data[i] = 255 - data[i]\n",
    "    data = np.array(data)/256.0\n",
    "    return data"
   ]
  },
  {
   "cell_type": "markdown",
   "id": "cef1230e",
   "metadata": {},
   "source": [
    "# Gimpben rajzolt számok"
   ]
  },
  {
   "cell_type": "code",
   "execution_count": null,
   "id": "29cb1da6",
   "metadata": {},
   "outputs": [],
   "source": [
    "image_folder = \"drawn_digits\"\n",
    "images = []\n",
    "predictions = []\n",
    "\n",
    "# Képek beolvasása és osztályozás végrehajtása\n",
    "for filename in os.listdir(image_folder):\n",
    "    if filename.endswith(\".png\"):\n",
    "        file_path = os.path.join(image_folder, filename)\n",
    "        image = Image.open(file_path)\n",
    "        binimg = image_to_bin(image)\n",
    "        p = model.predict([binimg])\n",
    "        images.append(image)\n",
    "        predictions.append(p)\n",
    "\n",
    "fig, axes = plt.subplots(2, 5, figsize=(10, 4))\n",
    "\n",
    "for i, ax in enumerate(axes.flat):\n",
    "    ax.imshow(images[i], cmap='gray')\n",
    "    ax.set_title(\"Prediction: {}\".format(predictions[i]))\n",
    "\n",
    "plt.tight_layout()\n",
    "plt.show()"
   ]
  },
  {
   "cell_type": "markdown",
   "id": "0d3dae73",
   "metadata": {},
   "source": [
    "# Kézzel írott számok"
   ]
  },
  {
   "cell_type": "code",
   "execution_count": null,
   "id": "d399161a",
   "metadata": {},
   "outputs": [],
   "source": [
    "image_folder = \"handwritten_digits\"\n",
    "images = []\n",
    "predictions = []\n",
    "\n",
    "for filename in os.listdir(image_folder):\n",
    "    if filename.endswith(\".png\"):\n",
    "        file_path = os.path.join(image_folder, filename)\n",
    "        image = Image.open(file_path)\n",
    "        binimg = image_to_bin(image)\n",
    "        p = model.predict([binimg])\n",
    "        images.append(image)\n",
    "        predictions.append(p)\n",
    "\n",
    "fig, axes = plt.subplots(2, 5, figsize=(10, 4))\n",
    "\n",
    "for i, ax in enumerate(axes.flat):\n",
    "    ax.imshow(images[i], cmap='gray')\n",
    "    ax.set_title(\"Prediction: {}\".format(predictions[i]))\n",
    "\n",
    "plt.tight_layout()\n",
    "plt.show()"
   ]
  },
  {
   "cell_type": "markdown",
   "id": "24529753",
   "metadata": {},
   "source": [
    "# Küszöbölés invertálással"
   ]
  },
  {
   "cell_type": "code",
   "execution_count": null,
   "id": "5d886beb",
   "metadata": {},
   "outputs": [],
   "source": [
    "def local_threshold_mean(image, kernel_size):\n",
    "    blurred_image = cv2.blur(image, (kernel_size, kernel_size))\n",
    "    convolved_image = cv2.filter2D(image, -1, np.ones((kernel_size, kernel_size), dtype=np.float32) / (kernel_size * kernel_size))\n",
    "    thresholded_image = np.where(image > convolved_image, 255, 0).astype(np.uint8)\n",
    "    return thresholded_image\n",
    "\n",
    "def invert_colors(img):\n",
    "    return cv2.bitwise_not(img)\n",
    "\n",
    "image_folder = \"handwritten_digits\"\n",
    "images = []\n",
    "predictions = []\n",
    "\n",
    "for filename in os.listdir(image_folder):\n",
    "    if filename.endswith(\".png\"):\n",
    "        file_path = os.path.join(image_folder, filename)\n",
    "        image = cv2.imread(file_path, cv2.IMREAD_GRAYSCALE) \n",
    "        binimg = local_threshold_mean(image, kernel_size=25)\n",
    "        inverted_img = invert_colors(binimg)\n",
    "        p = model.predict([inverted_img.flatten()])\n",
    "        images.append(inverted_img)\n",
    "        predictions.append(p)\n",
    "\n",
    "fig, axes = plt.subplots(2, 5, figsize=(10, 4))\n",
    "\n",
    "for i, ax in enumerate(axes.flat):\n",
    "    ax.imshow(images[i], cmap='gray')\n",
    "    ax.set_title(\"Prediction: {}\".format(predictions[i]))\n",
    "\n",
    "plt.tight_layout()\n",
    "plt.show()"
   ]
  },
  {
   "cell_type": "markdown",
   "id": "ad74a662",
   "metadata": {},
   "source": [
    "# Kontúrkövetéssel"
   ]
  },
  {
   "cell_type": "code",
   "execution_count": null,
   "id": "ea0bb24c",
   "metadata": {},
   "outputs": [],
   "source": [
    "def contours(image):\n",
    "    gray = cv2.cvtColor(image, cv2.COLOR_BGR2GRAY)\n",
    "    edges = cv2.Canny(gray, 50, 100)\n",
    "    contours, _ = cv2.findContours(edges, cv2.RETR_EXTERNAL, cv2.CHAIN_APPROX_SIMPLE)\n",
    "    contour_img = image.copy()\n",
    "    cv2.drawContours(contour_img, contours, -1, (255,0, 255), 1)\n",
    "    return contour_img\n",
    "\n",
    "image_folder = \"handwritten_digits\"\n",
    "images = []\n",
    "predictions = []\n",
    "\n",
    "for filename in os.listdir(image_folder):\n",
    "    if filename.endswith(\".png\"):\n",
    "        file_path = os.path.join(image_folder, filename)\n",
    "        image = cv2.imread(file_path, cv2.IMREAD_GRAYSCALE)\n",
    "\n",
    "        image_with_contours = contours(cv2.cvtColor(image, cv2.COLOR_GRAY2RGB))\n",
    "        image_with_contours_gray = cv2.cvtColor(image_with_contours, cv2.COLOR_RGB2GRAY)\n",
    "\n",
    "        p = model.predict([image_with_contours_gray.flatten()])\n",
    "        images.append(image_with_contours)\n",
    "        predictions.append(p)\n",
    "\n",
    "fig, axes = plt.subplots(2, 5, figsize=(10, 4))\n",
    "\n",
    "for i, ax in enumerate(axes.flat):\n",
    "    ax.imshow(images[i])\n",
    "    ax.set_title(\"Prediction: {}\".format(predictions[i]))\n",
    "\n",
    "plt.tight_layout()\n",
    "plt.show()\n"
   ]
  },
  {
   "cell_type": "markdown",
   "id": "bb5b7274",
   "metadata": {},
   "source": [
    "# Észrevételek"
   ]
  },
  {
   "cell_type": "markdown",
   "id": "e844d0e1",
   "metadata": {},
   "source": [
    "- Kisebb modell pontosság\n",
    "- Rövidebb tanulási idő\n",
    "- Jobb becslés a feldolgozatlan képeken\n",
    "- Feldolgozott képek felismerése hibásabb"
   ]
  }
 ],
 "metadata": {
  "kernelspec": {
   "display_name": "Python 3 (ipykernel)",
   "language": "python",
   "name": "python3"
  },
  "language_info": {
   "codemirror_mode": {
    "name": "ipython",
    "version": 3
   },
   "file_extension": ".py",
   "mimetype": "text/x-python",
   "name": "python",
   "nbconvert_exporter": "python",
   "pygments_lexer": "ipython3",
   "version": "3.11.3"
  }
 },
 "nbformat": 4,
 "nbformat_minor": 5
}
