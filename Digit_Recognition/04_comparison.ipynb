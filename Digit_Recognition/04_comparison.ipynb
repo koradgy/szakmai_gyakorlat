{
 "cells": [
  {
   "cell_type": "code",
   "execution_count": null,
   "id": "1e12a0fa",
   "metadata": {},
   "outputs": [],
   "source": [
    "import cv2\n",
    "import numpy as np\n",
    "import matplotlib.pyplot as plt"
   ]
  },
  {
   "cell_type": "code",
   "execution_count": null,
   "id": "16db0546",
   "metadata": {
    "scrolled": false
   },
   "outputs": [],
   "source": [
    "def binarize_image(image, threshold):\n",
    "    gray_image = cv2.cvtColor(image, cv2.COLOR_BGR2GRAY)\n",
    "    _, binarized_image = cv2.threshold(gray_image, threshold, 255, cv2.THRESH_BINARY)\n",
    "    return binarized_image\n",
    "\n",
    "def image_distance(image1, image2):\n",
    "    diff = cv2.absdiff(image1, image2)\n",
    "    return np.sum(diff)\n",
    "\n",
    "def gauss_filter(image):\n",
    "    filtered_image = cv2.GaussianBlur(image, (5, 5), 0)\n",
    "    return filtered_image\n",
    "\n",
    "\n",
    "original_image = cv2.imread('Images/noise.jpeg')\n",
    "threshold = 128\n",
    "binarized_image = binarize_image(original_image, threshold)\n",
    "\n",
    "\n",
    "expected_image = cv2.imread('Images/noise_bin.jpg', cv2.IMREAD_GRAYSCALE)\n",
    "\n",
    "\n",
    "filtered_binarized_image = gauss_filter(binarized_image)\n",
    "filtered_expected_image = gauss_filter(expected_image)\n",
    "\n",
    "plt.figure(figsize=(12, 6))\n",
    "\n",
    "plt.subplot(1, 3, 1)\n",
    "plt.imshow(cv2.cvtColor(expected_image, cv2.COLOR_BGR2RGB))\n",
    "plt.title('ELőre binarizált kép')\n",
    "plt.axis('off')\n",
    "\n",
    "plt.subplot(1, 3, 2)\n",
    "plt.imshow(filtered_binarized_image, cmap='gray')\n",
    "plt.title('Szűrt binarizált kép')\n",
    "plt.axis('off')\n",
    "\n",
    "plt.subplot(1, 3, 3)\n",
    "plt.imshow(filtered_expected_image, cmap='gray')\n",
    "plt.title('Referencia szűrés után')\n",
    "plt.axis('off')\n",
    "\n",
    "plt.show()\n",
    "\n",
    "# Képek távolságának mérése\n",
    "distance = image_distance(filtered_expected_image, filtered_binarized_image)\n",
    "print(\"Az elvárt és a kapott szűrt binarizált képek távolsága:\", distance)\n"
   ]
  },
  {
   "cell_type": "markdown",
   "id": "e910bd3f",
   "metadata": {},
   "source": [
    "referencia forrása: https://pinetools.com/threshold-image"
   ]
  },
  {
   "cell_type": "markdown",
   "id": "5a5aa2c2",
   "metadata": {},
   "source": [
    "A 'binarize_image' függvény a képet szürkeárnyalatos képpé alakítja (elsődleges színinformációk nélkül), majd egy küszöbérték segítségével binarizálja, ami azt jelenti, hogy minden pixel az adott küszöbértéken alapulva fekete vagy fehér lesz, ezáltal egyszerűsíti a további feldolgozást.\n",
    "\n",
    "A 'gauss_filter: A Gauss-szűrő egy simító szűrő, amely simítja a képet és csökkenti a zajt. A szűrő egy kis ablakot használ, és az ablak alapján a pixel értéke az ablakban lévő szomszédos pixelek átlagával válik egyenletessé. Ez javítja a kép minőségét és segít eltávolítani a zajt.\n",
    "\n",
    "Az 'image_distance' függvény kiszámítja a két kép közötti távolságot. Itt az abszolút különbség (az abszolút érték a különbségből) szolgál távolság-mértéknek. Minél nagyobb a két kép közötti különbség, annál nagyobb ez az érték. Ezzel az eljárással meg lehet állapítani, hogy mennyire eltérőek a két kép tartalmilag."
   ]
  }
 ],
 "metadata": {
  "kernelspec": {
   "display_name": "Python 3 (ipykernel)",
   "language": "python",
   "name": "python3"
  },
  "language_info": {
   "codemirror_mode": {
    "name": "ipython",
    "version": 3
   },
   "file_extension": ".py",
   "mimetype": "text/x-python",
   "name": "python",
   "nbconvert_exporter": "python",
   "pygments_lexer": "ipython3",
   "version": "3.11.3"
  }
 },
 "nbformat": 4,
 "nbformat_minor": 5
}
