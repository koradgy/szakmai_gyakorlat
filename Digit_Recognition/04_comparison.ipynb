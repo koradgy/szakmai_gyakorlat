{
 "cells": [
  {
   "cell_type": "code",
   "execution_count": null,
   "id": "16db0546",
   "metadata": {
    "scrolled": true
   },
   "outputs": [],
   "source": [
    "import cv2\n",
    "import numpy as np\n",
    "import matplotlib.pyplot as plt\n",
    "\n",
    "def binarize_image(image, threshold):\n",
    "    gray_image = cv2.cvtColor(image, cv2.COLOR_BGR2GRAY)\n",
    "    _, binarized_image = cv2.threshold(gray_image, threshold, 255, cv2.THRESH_BINARY)\n",
    "    return binarized_image\n",
    "\n",
    "def image_distance(image1, image2):\n",
    "    diff = cv2.absdiff(image1, image2)\n",
    "    return np.sum(diff)\n",
    "\n",
    "def gauss_filter(image):\n",
    "    filtered_image = cv2.GaussianBlur(image, (5, 5), 0)\n",
    "    return filtered_image\n",
    "\n",
    "\n",
    "original_image = cv2.imread('Images/noise.jpeg')\n",
    "threshold = 128\n",
    "binarized_image = binarize_image(original_image, threshold)\n",
    "\n",
    "\n",
    "expected_image = cv2.imread('Images/noise_bin.jpg', cv2.IMREAD_GRAYSCALE)\n",
    "\n",
    "\n",
    "filtered_binarized_image = gauss_filter(binarized_image)\n",
    "filtered_expected_image = gauss_filter(expected_image)\n",
    "\n",
    "plt.figure(figsize=(12, 6))\n",
    "\n",
    "plt.subplot(1, 3, 1)\n",
    "plt.imshow(cv2.cvtColor(binarized_image, cv2.COLOR_BGR2RGB))\n",
    "plt.title('Eredeti binarizált kép')\n",
    "plt.axis('off')\n",
    "\n",
    "plt.subplot(1, 3, 2)\n",
    "plt.imshow(filtered_binarized_image, cmap='gray')\n",
    "plt.title('Szűrt binarizált kép')\n",
    "plt.axis('off')\n",
    "\n",
    "plt.subplot(1, 3, 3)\n",
    "plt.imshow(filtered_expected_image, cmap='gray')\n",
    "plt.title('Elvárt referencia')\n",
    "plt.axis('off')\n",
    "\n",
    "plt.show()\n",
    "\n",
    "# Képek távolságának mérése\n",
    "distance = image_distance(filtered_expected_image, filtered_binarized_image)\n",
    "print(\"Az elvárt és a kapott szűrt binarizált képek távolsága:\", distance)\n"
   ]
  },
  {
   "cell_type": "markdown",
   "id": "e910bd3f",
   "metadata": {},
   "source": [
    "referencia forrása: https://pinetools.com/threshold-image"
   ]
  }
 ],
 "metadata": {
  "kernelspec": {
   "display_name": "Python 3 (ipykernel)",
   "language": "python",
   "name": "python3"
  },
  "language_info": {
   "codemirror_mode": {
    "name": "ipython",
    "version": 3
   },
   "file_extension": ".py",
   "mimetype": "text/x-python",
   "name": "python",
   "nbconvert_exporter": "python",
   "pygments_lexer": "ipython3",
   "version": "3.11.3"
  }
 },
 "nbformat": 4,
 "nbformat_minor": 5
}
